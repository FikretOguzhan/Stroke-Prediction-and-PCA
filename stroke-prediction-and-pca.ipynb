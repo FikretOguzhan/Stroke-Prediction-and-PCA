{
 "cells": [
  {
   "cell_type": "code",
   "execution_count": 1,
   "id": "39cd01bc",
   "metadata": {
    "_cell_guid": "b1076dfc-b9ad-4769-8c92-a6c4dae69d19",
    "_uuid": "8f2839f25d086af736a60e9eeb907d3b93b6e0e5",
    "execution": {
     "iopub.execute_input": "2021-08-30T13:37:16.640764Z",
     "iopub.status.busy": "2021-08-30T13:37:16.638950Z",
     "iopub.status.idle": "2021-08-30T13:37:19.263706Z",
     "shell.execute_reply": "2021-08-30T13:37:19.264370Z",
     "shell.execute_reply.started": "2021-08-30T13:35:02.575501Z"
    },
    "papermill": {
     "duration": 2.668531,
     "end_time": "2021-08-30T13:37:19.264680",
     "exception": false,
     "start_time": "2021-08-30T13:37:16.596149",
     "status": "completed"
    },
    "tags": []
   },
   "outputs": [
    {
     "name": "stdout",
     "output_type": "stream",
     "text": [
      "/kaggle/input/stroke-prediction-dataset/healthcare-dataset-stroke-data.csv\n"
     ]
    }
   ],
   "source": [
    "import numpy as np\n",
    "import pandas as pd \n",
    "import matplotlib.pyplot as plt\n",
    "import seaborn as sns\n",
    "import plotly.express as px\n",
    "import os\n",
    "for dirname, _, filenames in os.walk('/kaggle/input'):\n",
    "    for filename in filenames:\n",
    "        print(os.path.join(dirname, filename))"
   ]
  },
  {
   "cell_type": "code",
   "execution_count": 2,
   "id": "b15665c6",
   "metadata": {
    "execution": {
     "iopub.execute_input": "2021-08-30T13:37:19.344531Z",
     "iopub.status.busy": "2021-08-30T13:37:19.343825Z",
     "iopub.status.idle": "2021-08-30T13:37:19.406007Z",
     "shell.execute_reply": "2021-08-30T13:37:19.405325Z",
     "shell.execute_reply.started": "2021-08-30T13:35:02.586616Z"
    },
    "papermill": {
     "duration": 0.102929,
     "end_time": "2021-08-30T13:37:19.406170",
     "exception": false,
     "start_time": "2021-08-30T13:37:19.303241",
     "status": "completed"
    },
    "tags": []
   },
   "outputs": [
    {
     "data": {
      "text/html": [
       "<div>\n",
       "<style scoped>\n",
       "    .dataframe tbody tr th:only-of-type {\n",
       "        vertical-align: middle;\n",
       "    }\n",
       "\n",
       "    .dataframe tbody tr th {\n",
       "        vertical-align: top;\n",
       "    }\n",
       "\n",
       "    .dataframe thead th {\n",
       "        text-align: right;\n",
       "    }\n",
       "</style>\n",
       "<table border=\"1\" class=\"dataframe\">\n",
       "  <thead>\n",
       "    <tr style=\"text-align: right;\">\n",
       "      <th></th>\n",
       "      <th>id</th>\n",
       "      <th>gender</th>\n",
       "      <th>age</th>\n",
       "      <th>hypertension</th>\n",
       "      <th>heart_disease</th>\n",
       "      <th>ever_married</th>\n",
       "      <th>work_type</th>\n",
       "      <th>Residence_type</th>\n",
       "      <th>avg_glucose_level</th>\n",
       "      <th>bmi</th>\n",
       "      <th>smoking_status</th>\n",
       "      <th>stroke</th>\n",
       "    </tr>\n",
       "  </thead>\n",
       "  <tbody>\n",
       "    <tr>\n",
       "      <th>0</th>\n",
       "      <td>9046</td>\n",
       "      <td>Male</td>\n",
       "      <td>67.0</td>\n",
       "      <td>0</td>\n",
       "      <td>1</td>\n",
       "      <td>Yes</td>\n",
       "      <td>Private</td>\n",
       "      <td>Urban</td>\n",
       "      <td>228.69</td>\n",
       "      <td>36.6</td>\n",
       "      <td>formerly smoked</td>\n",
       "      <td>1</td>\n",
       "    </tr>\n",
       "    <tr>\n",
       "      <th>1</th>\n",
       "      <td>51676</td>\n",
       "      <td>Female</td>\n",
       "      <td>61.0</td>\n",
       "      <td>0</td>\n",
       "      <td>0</td>\n",
       "      <td>Yes</td>\n",
       "      <td>Self-employed</td>\n",
       "      <td>Rural</td>\n",
       "      <td>202.21</td>\n",
       "      <td>NaN</td>\n",
       "      <td>never smoked</td>\n",
       "      <td>1</td>\n",
       "    </tr>\n",
       "    <tr>\n",
       "      <th>2</th>\n",
       "      <td>31112</td>\n",
       "      <td>Male</td>\n",
       "      <td>80.0</td>\n",
       "      <td>0</td>\n",
       "      <td>1</td>\n",
       "      <td>Yes</td>\n",
       "      <td>Private</td>\n",
       "      <td>Rural</td>\n",
       "      <td>105.92</td>\n",
       "      <td>32.5</td>\n",
       "      <td>never smoked</td>\n",
       "      <td>1</td>\n",
       "    </tr>\n",
       "    <tr>\n",
       "      <th>3</th>\n",
       "      <td>60182</td>\n",
       "      <td>Female</td>\n",
       "      <td>49.0</td>\n",
       "      <td>0</td>\n",
       "      <td>0</td>\n",
       "      <td>Yes</td>\n",
       "      <td>Private</td>\n",
       "      <td>Urban</td>\n",
       "      <td>171.23</td>\n",
       "      <td>34.4</td>\n",
       "      <td>smokes</td>\n",
       "      <td>1</td>\n",
       "    </tr>\n",
       "    <tr>\n",
       "      <th>4</th>\n",
       "      <td>1665</td>\n",
       "      <td>Female</td>\n",
       "      <td>79.0</td>\n",
       "      <td>1</td>\n",
       "      <td>0</td>\n",
       "      <td>Yes</td>\n",
       "      <td>Self-employed</td>\n",
       "      <td>Rural</td>\n",
       "      <td>174.12</td>\n",
       "      <td>24.0</td>\n",
       "      <td>never smoked</td>\n",
       "      <td>1</td>\n",
       "    </tr>\n",
       "  </tbody>\n",
       "</table>\n",
       "</div>"
      ],
      "text/plain": [
       "      id  gender   age  hypertension  heart_disease ever_married  \\\n",
       "0   9046    Male  67.0             0              1          Yes   \n",
       "1  51676  Female  61.0             0              0          Yes   \n",
       "2  31112    Male  80.0             0              1          Yes   \n",
       "3  60182  Female  49.0             0              0          Yes   \n",
       "4   1665  Female  79.0             1              0          Yes   \n",
       "\n",
       "       work_type Residence_type  avg_glucose_level   bmi   smoking_status  \\\n",
       "0        Private          Urban             228.69  36.6  formerly smoked   \n",
       "1  Self-employed          Rural             202.21   NaN     never smoked   \n",
       "2        Private          Rural             105.92  32.5     never smoked   \n",
       "3        Private          Urban             171.23  34.4           smokes   \n",
       "4  Self-employed          Rural             174.12  24.0     never smoked   \n",
       "\n",
       "   stroke  \n",
       "0       1  \n",
       "1       1  \n",
       "2       1  \n",
       "3       1  \n",
       "4       1  "
      ]
     },
     "execution_count": 2,
     "metadata": {},
     "output_type": "execute_result"
    }
   ],
   "source": [
    "df=pd.read_csv(\"/kaggle/input/stroke-prediction-dataset/healthcare-dataset-stroke-data.csv\")\n",
    "df.head()"
   ]
  },
  {
   "cell_type": "markdown",
   "id": "8bd029fd",
   "metadata": {
    "papermill": {
     "duration": 0.039497,
     "end_time": "2021-08-30T13:37:19.486389",
     "exception": false,
     "start_time": "2021-08-30T13:37:19.446892",
     "status": "completed"
    },
    "tags": []
   },
   "source": [
    "**Getting Know the Data**"
   ]
  },
  {
   "cell_type": "code",
   "execution_count": 3,
   "id": "91524a72",
   "metadata": {
    "execution": {
     "iopub.execute_input": "2021-08-30T13:37:19.566843Z",
     "iopub.status.busy": "2021-08-30T13:37:19.566233Z",
     "iopub.status.idle": "2021-08-30T13:37:19.577068Z",
     "shell.execute_reply": "2021-08-30T13:37:19.577593Z",
     "shell.execute_reply.started": "2021-08-30T13:35:02.624005Z"
    },
    "papermill": {
     "duration": 0.051442,
     "end_time": "2021-08-30T13:37:19.577770",
     "exception": false,
     "start_time": "2021-08-30T13:37:19.526328",
     "status": "completed"
    },
    "tags": []
   },
   "outputs": [
    {
     "data": {
      "text/plain": [
       "id                     0\n",
       "gender                 0\n",
       "age                    0\n",
       "hypertension           0\n",
       "heart_disease          0\n",
       "ever_married           0\n",
       "work_type              0\n",
       "Residence_type         0\n",
       "avg_glucose_level      0\n",
       "bmi                  201\n",
       "smoking_status         0\n",
       "stroke                 0\n",
       "dtype: int64"
      ]
     },
     "execution_count": 3,
     "metadata": {},
     "output_type": "execute_result"
    }
   ],
   "source": [
    "df.isnull().sum()"
   ]
  },
  {
   "cell_type": "code",
   "execution_count": 4,
   "id": "25dc3105",
   "metadata": {
    "execution": {
     "iopub.execute_input": "2021-08-30T13:37:19.656828Z",
     "iopub.status.busy": "2021-08-30T13:37:19.656151Z",
     "iopub.status.idle": "2021-08-30T13:37:19.680567Z",
     "shell.execute_reply": "2021-08-30T13:37:19.681028Z",
     "shell.execute_reply.started": "2021-08-30T13:35:02.636402Z"
    },
    "papermill": {
     "duration": 0.066238,
     "end_time": "2021-08-30T13:37:19.681224",
     "exception": false,
     "start_time": "2021-08-30T13:37:19.614986",
     "status": "completed"
    },
    "tags": []
   },
   "outputs": [
    {
     "name": "stdout",
     "output_type": "stream",
     "text": [
      "<class 'pandas.core.frame.DataFrame'>\n",
      "RangeIndex: 5110 entries, 0 to 5109\n",
      "Data columns (total 12 columns):\n",
      " #   Column             Non-Null Count  Dtype  \n",
      "---  ------             --------------  -----  \n",
      " 0   id                 5110 non-null   int64  \n",
      " 1   gender             5110 non-null   object \n",
      " 2   age                5110 non-null   float64\n",
      " 3   hypertension       5110 non-null   int64  \n",
      " 4   heart_disease      5110 non-null   int64  \n",
      " 5   ever_married       5110 non-null   object \n",
      " 6   work_type          5110 non-null   object \n",
      " 7   Residence_type     5110 non-null   object \n",
      " 8   avg_glucose_level  5110 non-null   float64\n",
      " 9   bmi                4909 non-null   float64\n",
      " 10  smoking_status     5110 non-null   object \n",
      " 11  stroke             5110 non-null   int64  \n",
      "dtypes: float64(3), int64(4), object(5)\n",
      "memory usage: 479.2+ KB\n"
     ]
    }
   ],
   "source": [
    "df.info()"
   ]
  },
  {
   "cell_type": "code",
   "execution_count": 5,
   "id": "48cdf51c",
   "metadata": {
    "execution": {
     "iopub.execute_input": "2021-08-30T13:37:19.762968Z",
     "iopub.status.busy": "2021-08-30T13:37:19.762277Z",
     "iopub.status.idle": "2021-08-30T13:37:19.765119Z",
     "shell.execute_reply": "2021-08-30T13:37:19.765654Z",
     "shell.execute_reply.started": "2021-08-30T13:35:02.664798Z"
    },
    "papermill": {
     "duration": 0.046503,
     "end_time": "2021-08-30T13:37:19.765821",
     "exception": false,
     "start_time": "2021-08-30T13:37:19.719318",
     "status": "completed"
    },
    "tags": []
   },
   "outputs": [
    {
     "data": {
      "text/plain": [
       "(5110, 12)"
      ]
     },
     "execution_count": 5,
     "metadata": {},
     "output_type": "execute_result"
    }
   ],
   "source": [
    "df.shape"
   ]
  },
  {
   "cell_type": "code",
   "execution_count": 6,
   "id": "4b15204a",
   "metadata": {
    "execution": {
     "iopub.execute_input": "2021-08-30T13:37:19.846883Z",
     "iopub.status.busy": "2021-08-30T13:37:19.846257Z",
     "iopub.status.idle": "2021-08-30T13:37:19.860165Z",
     "shell.execute_reply": "2021-08-30T13:37:19.860687Z",
     "shell.execute_reply.started": "2021-08-30T13:35:02.671778Z"
    },
    "papermill": {
     "duration": 0.05567,
     "end_time": "2021-08-30T13:37:19.860866",
     "exception": false,
     "start_time": "2021-08-30T13:37:19.805196",
     "status": "completed"
    },
    "tags": []
   },
   "outputs": [
    {
     "data": {
      "text/plain": [
       "0"
      ]
     },
     "execution_count": 6,
     "metadata": {},
     "output_type": "execute_result"
    }
   ],
   "source": [
    "df.duplicated().sum()"
   ]
  },
  {
   "cell_type": "code",
   "execution_count": 7,
   "id": "56edfe65",
   "metadata": {
    "execution": {
     "iopub.execute_input": "2021-08-30T13:37:19.940660Z",
     "iopub.status.busy": "2021-08-30T13:37:19.940009Z",
     "iopub.status.idle": "2021-08-30T13:37:19.980932Z",
     "shell.execute_reply": "2021-08-30T13:37:19.980357Z",
     "shell.execute_reply.started": "2021-08-30T13:35:02.696439Z"
    },
    "papermill": {
     "duration": 0.081687,
     "end_time": "2021-08-30T13:37:19.981080",
     "exception": false,
     "start_time": "2021-08-30T13:37:19.899393",
     "status": "completed"
    },
    "tags": []
   },
   "outputs": [
    {
     "data": {
      "text/html": [
       "<div>\n",
       "<style scoped>\n",
       "    .dataframe tbody tr th:only-of-type {\n",
       "        vertical-align: middle;\n",
       "    }\n",
       "\n",
       "    .dataframe tbody tr th {\n",
       "        vertical-align: top;\n",
       "    }\n",
       "\n",
       "    .dataframe thead th {\n",
       "        text-align: right;\n",
       "    }\n",
       "</style>\n",
       "<table border=\"1\" class=\"dataframe\">\n",
       "  <thead>\n",
       "    <tr style=\"text-align: right;\">\n",
       "      <th></th>\n",
       "      <th>count</th>\n",
       "      <th>mean</th>\n",
       "      <th>std</th>\n",
       "      <th>min</th>\n",
       "      <th>25%</th>\n",
       "      <th>50%</th>\n",
       "      <th>75%</th>\n",
       "      <th>max</th>\n",
       "    </tr>\n",
       "  </thead>\n",
       "  <tbody>\n",
       "    <tr>\n",
       "      <th>id</th>\n",
       "      <td>5110.0</td>\n",
       "      <td>36517.829354</td>\n",
       "      <td>21161.721625</td>\n",
       "      <td>67.00</td>\n",
       "      <td>17741.250</td>\n",
       "      <td>36932.000</td>\n",
       "      <td>54682.00</td>\n",
       "      <td>72940.00</td>\n",
       "    </tr>\n",
       "    <tr>\n",
       "      <th>age</th>\n",
       "      <td>5110.0</td>\n",
       "      <td>43.226614</td>\n",
       "      <td>22.612647</td>\n",
       "      <td>0.08</td>\n",
       "      <td>25.000</td>\n",
       "      <td>45.000</td>\n",
       "      <td>61.00</td>\n",
       "      <td>82.00</td>\n",
       "    </tr>\n",
       "    <tr>\n",
       "      <th>hypertension</th>\n",
       "      <td>5110.0</td>\n",
       "      <td>0.097456</td>\n",
       "      <td>0.296607</td>\n",
       "      <td>0.00</td>\n",
       "      <td>0.000</td>\n",
       "      <td>0.000</td>\n",
       "      <td>0.00</td>\n",
       "      <td>1.00</td>\n",
       "    </tr>\n",
       "    <tr>\n",
       "      <th>heart_disease</th>\n",
       "      <td>5110.0</td>\n",
       "      <td>0.054012</td>\n",
       "      <td>0.226063</td>\n",
       "      <td>0.00</td>\n",
       "      <td>0.000</td>\n",
       "      <td>0.000</td>\n",
       "      <td>0.00</td>\n",
       "      <td>1.00</td>\n",
       "    </tr>\n",
       "    <tr>\n",
       "      <th>avg_glucose_level</th>\n",
       "      <td>5110.0</td>\n",
       "      <td>106.147677</td>\n",
       "      <td>45.283560</td>\n",
       "      <td>55.12</td>\n",
       "      <td>77.245</td>\n",
       "      <td>91.885</td>\n",
       "      <td>114.09</td>\n",
       "      <td>271.74</td>\n",
       "    </tr>\n",
       "    <tr>\n",
       "      <th>bmi</th>\n",
       "      <td>4909.0</td>\n",
       "      <td>28.893237</td>\n",
       "      <td>7.854067</td>\n",
       "      <td>10.30</td>\n",
       "      <td>23.500</td>\n",
       "      <td>28.100</td>\n",
       "      <td>33.10</td>\n",
       "      <td>97.60</td>\n",
       "    </tr>\n",
       "    <tr>\n",
       "      <th>stroke</th>\n",
       "      <td>5110.0</td>\n",
       "      <td>0.048728</td>\n",
       "      <td>0.215320</td>\n",
       "      <td>0.00</td>\n",
       "      <td>0.000</td>\n",
       "      <td>0.000</td>\n",
       "      <td>0.00</td>\n",
       "      <td>1.00</td>\n",
       "    </tr>\n",
       "  </tbody>\n",
       "</table>\n",
       "</div>"
      ],
      "text/plain": [
       "                    count          mean           std    min        25%  \\\n",
       "id                 5110.0  36517.829354  21161.721625  67.00  17741.250   \n",
       "age                5110.0     43.226614     22.612647   0.08     25.000   \n",
       "hypertension       5110.0      0.097456      0.296607   0.00      0.000   \n",
       "heart_disease      5110.0      0.054012      0.226063   0.00      0.000   \n",
       "avg_glucose_level  5110.0    106.147677     45.283560  55.12     77.245   \n",
       "bmi                4909.0     28.893237      7.854067  10.30     23.500   \n",
       "stroke             5110.0      0.048728      0.215320   0.00      0.000   \n",
       "\n",
       "                         50%       75%       max  \n",
       "id                 36932.000  54682.00  72940.00  \n",
       "age                   45.000     61.00     82.00  \n",
       "hypertension           0.000      0.00      1.00  \n",
       "heart_disease          0.000      0.00      1.00  \n",
       "avg_glucose_level     91.885    114.09    271.74  \n",
       "bmi                   28.100     33.10     97.60  \n",
       "stroke                 0.000      0.00      1.00  "
      ]
     },
     "execution_count": 7,
     "metadata": {},
     "output_type": "execute_result"
    }
   ],
   "source": [
    "df.describe().T"
   ]
  },
  {
   "cell_type": "code",
   "execution_count": 8,
   "id": "7bf0adc8",
   "metadata": {
    "execution": {
     "iopub.execute_input": "2021-08-30T13:37:20.070205Z",
     "iopub.status.busy": "2021-08-30T13:37:20.069547Z",
     "iopub.status.idle": "2021-08-30T13:37:20.114248Z",
     "shell.execute_reply": "2021-08-30T13:37:20.113672Z",
     "shell.execute_reply.started": "2021-08-30T13:35:02.743024Z"
    },
    "papermill": {
     "duration": 0.094047,
     "end_time": "2021-08-30T13:37:20.114405",
     "exception": false,
     "start_time": "2021-08-30T13:37:20.020358",
     "status": "completed"
    },
    "tags": []
   },
   "outputs": [
    {
     "data": {
      "text/html": [
       "<div>\n",
       "<style scoped>\n",
       "    .dataframe tbody tr th:only-of-type {\n",
       "        vertical-align: middle;\n",
       "    }\n",
       "\n",
       "    .dataframe tbody tr th {\n",
       "        vertical-align: top;\n",
       "    }\n",
       "\n",
       "    .dataframe thead th {\n",
       "        text-align: right;\n",
       "    }\n",
       "</style>\n",
       "<table border=\"1\" class=\"dataframe\">\n",
       "  <thead>\n",
       "    <tr style=\"text-align: right;\">\n",
       "      <th></th>\n",
       "      <th>count</th>\n",
       "      <th>unique</th>\n",
       "      <th>top</th>\n",
       "      <th>freq</th>\n",
       "    </tr>\n",
       "  </thead>\n",
       "  <tbody>\n",
       "    <tr>\n",
       "      <th>gender</th>\n",
       "      <td>5110</td>\n",
       "      <td>3</td>\n",
       "      <td>Female</td>\n",
       "      <td>2994</td>\n",
       "    </tr>\n",
       "    <tr>\n",
       "      <th>ever_married</th>\n",
       "      <td>5110</td>\n",
       "      <td>2</td>\n",
       "      <td>Yes</td>\n",
       "      <td>3353</td>\n",
       "    </tr>\n",
       "    <tr>\n",
       "      <th>work_type</th>\n",
       "      <td>5110</td>\n",
       "      <td>5</td>\n",
       "      <td>Private</td>\n",
       "      <td>2925</td>\n",
       "    </tr>\n",
       "    <tr>\n",
       "      <th>Residence_type</th>\n",
       "      <td>5110</td>\n",
       "      <td>2</td>\n",
       "      <td>Urban</td>\n",
       "      <td>2596</td>\n",
       "    </tr>\n",
       "    <tr>\n",
       "      <th>smoking_status</th>\n",
       "      <td>5110</td>\n",
       "      <td>4</td>\n",
       "      <td>never smoked</td>\n",
       "      <td>1892</td>\n",
       "    </tr>\n",
       "  </tbody>\n",
       "</table>\n",
       "</div>"
      ],
      "text/plain": [
       "               count unique           top  freq\n",
       "gender          5110      3        Female  2994\n",
       "ever_married    5110      2           Yes  3353\n",
       "work_type       5110      5       Private  2925\n",
       "Residence_type  5110      2         Urban  2596\n",
       "smoking_status  5110      4  never smoked  1892"
      ]
     },
     "execution_count": 8,
     "metadata": {},
     "output_type": "execute_result"
    }
   ],
   "source": [
    "df.describe(include=\"object\").T"
   ]
  },
  {
   "cell_type": "markdown",
   "id": "7eee9d4f",
   "metadata": {
    "papermill": {
     "duration": 0.039086,
     "end_time": "2021-08-30T13:37:20.194970",
     "exception": false,
     "start_time": "2021-08-30T13:37:20.155884",
     "status": "completed"
    },
    "tags": []
   },
   "source": [
    "**Data Visualization and Analysis**"
   ]
  },
  {
   "cell_type": "code",
   "execution_count": 9,
   "id": "e8f886b6",
   "metadata": {
    "execution": {
     "iopub.execute_input": "2021-08-30T13:37:20.285834Z",
     "iopub.status.busy": "2021-08-30T13:37:20.285159Z",
     "iopub.status.idle": "2021-08-30T13:37:20.292452Z",
     "shell.execute_reply": "2021-08-30T13:37:20.292917Z",
     "shell.execute_reply.started": "2021-08-30T13:35:02.778060Z"
    },
    "papermill": {
     "duration": 0.057636,
     "end_time": "2021-08-30T13:37:20.293107",
     "exception": false,
     "start_time": "2021-08-30T13:37:20.235471",
     "status": "completed"
    },
    "tags": []
   },
   "outputs": [],
   "source": [
    "# Drop the unnecessary column\n",
    "df.dropna(inplace=True)\n",
    "df.drop(columns=[\"id\"],axis=1, inplace=True)"
   ]
  },
  {
   "cell_type": "code",
   "execution_count": 10,
   "id": "b6d37207",
   "metadata": {
    "execution": {
     "iopub.execute_input": "2021-08-30T13:37:20.376933Z",
     "iopub.status.busy": "2021-08-30T13:37:20.376282Z",
     "iopub.status.idle": "2021-08-30T13:37:20.384408Z",
     "shell.execute_reply": "2021-08-30T13:37:20.384916Z",
     "shell.execute_reply.started": "2021-08-30T13:35:02.793148Z"
    },
    "papermill": {
     "duration": 0.052344,
     "end_time": "2021-08-30T13:37:20.385090",
     "exception": false,
     "start_time": "2021-08-30T13:37:20.332746",
     "status": "completed"
    },
    "tags": []
   },
   "outputs": [
    {
     "data": {
      "text/plain": [
       "Female    2897\n",
       "Male      2011\n",
       "Other        1\n",
       "Name: gender, dtype: int64"
      ]
     },
     "execution_count": 10,
     "metadata": {},
     "output_type": "execute_result"
    }
   ],
   "source": [
    "df[\"gender\"].value_counts()"
   ]
  },
  {
   "cell_type": "code",
   "execution_count": 11,
   "id": "507f2d4a",
   "metadata": {
    "execution": {
     "iopub.execute_input": "2021-08-30T13:37:20.481595Z",
     "iopub.status.busy": "2021-08-30T13:37:20.480928Z",
     "iopub.status.idle": "2021-08-30T13:37:20.484301Z",
     "shell.execute_reply": "2021-08-30T13:37:20.484804Z",
     "shell.execute_reply.started": "2021-08-30T13:35:02.807843Z"
    },
    "papermill": {
     "duration": 0.059001,
     "end_time": "2021-08-30T13:37:20.484976",
     "exception": false,
     "start_time": "2021-08-30T13:37:20.425975",
     "status": "completed"
    },
    "tags": []
   },
   "outputs": [
    {
     "data": {
      "text/html": [
       "<div>\n",
       "<style scoped>\n",
       "    .dataframe tbody tr th:only-of-type {\n",
       "        vertical-align: middle;\n",
       "    }\n",
       "\n",
       "    .dataframe tbody tr th {\n",
       "        vertical-align: top;\n",
       "    }\n",
       "\n",
       "    .dataframe thead th {\n",
       "        text-align: right;\n",
       "    }\n",
       "</style>\n",
       "<table border=\"1\" class=\"dataframe\">\n",
       "  <thead>\n",
       "    <tr style=\"text-align: right;\">\n",
       "      <th></th>\n",
       "      <th>gender</th>\n",
       "      <th>age</th>\n",
       "      <th>hypertension</th>\n",
       "      <th>heart_disease</th>\n",
       "      <th>ever_married</th>\n",
       "      <th>work_type</th>\n",
       "      <th>Residence_type</th>\n",
       "      <th>avg_glucose_level</th>\n",
       "      <th>bmi</th>\n",
       "      <th>smoking_status</th>\n",
       "      <th>stroke</th>\n",
       "    </tr>\n",
       "  </thead>\n",
       "  <tbody>\n",
       "    <tr>\n",
       "      <th>3116</th>\n",
       "      <td>Other</td>\n",
       "      <td>26.0</td>\n",
       "      <td>0</td>\n",
       "      <td>0</td>\n",
       "      <td>No</td>\n",
       "      <td>Private</td>\n",
       "      <td>Rural</td>\n",
       "      <td>143.33</td>\n",
       "      <td>22.4</td>\n",
       "      <td>formerly smoked</td>\n",
       "      <td>0</td>\n",
       "    </tr>\n",
       "  </tbody>\n",
       "</table>\n",
       "</div>"
      ],
      "text/plain": [
       "     gender   age  hypertension  heart_disease ever_married work_type  \\\n",
       "3116  Other  26.0             0              0           No   Private   \n",
       "\n",
       "     Residence_type  avg_glucose_level   bmi   smoking_status  stroke  \n",
       "3116          Rural             143.33  22.4  formerly smoked       0  "
      ]
     },
     "execution_count": 11,
     "metadata": {},
     "output_type": "execute_result"
    }
   ],
   "source": [
    "df.loc[df[\"gender\"]==\"Other\"]"
   ]
  },
  {
   "cell_type": "code",
   "execution_count": 12,
   "id": "3ed438c3",
   "metadata": {
    "execution": {
     "iopub.execute_input": "2021-08-30T13:37:20.569341Z",
     "iopub.status.busy": "2021-08-30T13:37:20.568734Z",
     "iopub.status.idle": "2021-08-30T13:37:20.574027Z",
     "shell.execute_reply": "2021-08-30T13:37:20.574522Z",
     "shell.execute_reply.started": "2021-08-30T13:35:02.833613Z"
    },
    "papermill": {
     "duration": 0.0493,
     "end_time": "2021-08-30T13:37:20.574720",
     "exception": false,
     "start_time": "2021-08-30T13:37:20.525420",
     "status": "completed"
    },
    "tags": []
   },
   "outputs": [],
   "source": [
    "df.drop([3116], inplace=True)"
   ]
  },
  {
   "cell_type": "code",
   "execution_count": 13,
   "id": "7096c55b",
   "metadata": {
    "execution": {
     "iopub.execute_input": "2021-08-30T13:37:20.680109Z",
     "iopub.status.busy": "2021-08-30T13:37:20.679055Z",
     "iopub.status.idle": "2021-08-30T13:37:21.698982Z",
     "shell.execute_reply": "2021-08-30T13:37:21.699455Z",
     "shell.execute_reply.started": "2021-08-30T13:35:02.841967Z"
    },
    "papermill": {
     "duration": 1.084634,
     "end_time": "2021-08-30T13:37:21.699632",
     "exception": false,
     "start_time": "2021-08-30T13:37:20.614998",
     "status": "completed"
    },
    "tags": []
   },
   "outputs": [
    {
     "data": {
      "text/plain": [
       "<AxesSubplot:xlabel='ever_married', ylabel='stroke'>"
      ]
     },
     "execution_count": 13,
     "metadata": {},
     "output_type": "execute_result"
    },
    {
     "data": {
      "image/png": "[encoded data removed]",
      "text/plain": [
       "<Figure size 1080x936 with 2 Axes>"
      ]
     },
     "metadata": {
      "needs_background": "light"
     },
     "output_type": "display_data"
    }
   ],
   "source": [
    "fig, axis=plt.subplots(2, figsize=(15,13))\n",
    "sns.set_palette(\"pastel\")\n",
    "\n",
    "\n",
    "sns.violinplot(data=df, x=df[\"ever_married\"], y=df[\"stroke\"], hue=df[\"gender\"],\n",
    "           ax=axis[0])\n",
    "\n",
    "sns.pointplot(data=df, x=df[\"ever_married\"], y=df[\"stroke\"], hue=df[\"gender\"],\n",
    "           ax=axis[1])"
   ]
  },
  {
   "cell_type": "code",
   "execution_count": 14,
   "id": "0c509c6d",
   "metadata": {
    "execution": {
     "iopub.execute_input": "2021-08-30T13:37:21.850702Z",
     "iopub.status.busy": "2021-08-30T13:37:21.820490Z",
     "iopub.status.idle": "2021-08-30T13:37:23.021982Z",
     "shell.execute_reply": "2021-08-30T13:37:23.022569Z",
     "shell.execute_reply.started": "2021-08-30T13:35:03.596001Z"
    },
    "papermill": {
     "duration": 1.269879,
     "end_time": "2021-08-30T13:37:23.022751",
     "exception": false,
     "start_time": "2021-08-30T13:37:21.752872",
     "status": "completed"
    },
    "tags": []
   },
   "outputs": [
    {
     "data": {
      "text/plain": [
       "<AxesSubplot:xlabel='work_type', ylabel='stroke'>"
      ]
     },
     "execution_count": 14,
     "metadata": {},
     "output_type": "execute_result"
    },
    {
     "data": {
      "image/png": "[encoded data removed]",
      "text/plain": [
       "<Figure size 1080x936 with 2 Axes>"
      ]
     },
     "metadata": {
      "needs_background": "light"
     },
     "output_type": "display_data"
    }
   ],
   "source": [
    "fig, axis=plt.subplots(2, figsize=(15,13))\n",
    "sns.set_palette(\"pastel\")\n",
    "\n",
    "\n",
    "sns.violinplot(data=df, x=df[\"work_type\"], y=df[\"stroke\"], hue=df[\"gender\"],\n",
    "           ax=axis[0])\n",
    "\n",
    "sns.pointplot(data=df, x=df[\"work_type\"], y=df[\"stroke\"], hue=df[\"gender\"],\n",
    "           ax=axis[1])"
   ]
  },
  {
   "cell_type": "code",
   "execution_count": 15,
   "id": "824318bb",
   "metadata": {
    "execution": {
     "iopub.execute_input": "2021-08-30T13:37:23.158462Z",
     "iopub.status.busy": "2021-08-30T13:37:23.156749Z",
     "iopub.status.idle": "2021-08-30T13:37:23.165253Z",
     "shell.execute_reply": "2021-08-30T13:37:23.164471Z",
     "shell.execute_reply.started": "2021-08-30T13:35:04.843048Z"
    },
    "papermill": {
     "duration": 0.090825,
     "end_time": "2021-08-30T13:37:23.165420",
     "exception": false,
     "start_time": "2021-08-30T13:37:23.074595",
     "status": "completed"
    },
    "tags": []
   },
   "outputs": [
    {
     "data": {
      "text/html": [
       "<div>\n",
       "<style scoped>\n",
       "    .dataframe tbody tr th:only-of-type {\n",
       "        vertical-align: middle;\n",
       "    }\n",
       "\n",
       "    .dataframe tbody tr th {\n",
       "        vertical-align: top;\n",
       "    }\n",
       "\n",
       "    .dataframe thead th {\n",
       "        text-align: right;\n",
       "    }\n",
       "</style>\n",
       "<table border=\"1\" class=\"dataframe\">\n",
       "  <thead>\n",
       "    <tr style=\"text-align: right;\">\n",
       "      <th></th>\n",
       "      <th>gender</th>\n",
       "      <th>age</th>\n",
       "      <th>hypertension</th>\n",
       "      <th>heart_disease</th>\n",
       "      <th>ever_married</th>\n",
       "      <th>work_type</th>\n",
       "      <th>Residence_type</th>\n",
       "      <th>avg_glucose_level</th>\n",
       "      <th>bmi</th>\n",
       "      <th>smoking_status</th>\n",
       "      <th>stroke</th>\n",
       "    </tr>\n",
       "  </thead>\n",
       "  <tbody>\n",
       "    <tr>\n",
       "      <th>253</th>\n",
       "      <td>Male</td>\n",
       "      <td>14.0</td>\n",
       "      <td>0</td>\n",
       "      <td>0</td>\n",
       "      <td>No</td>\n",
       "      <td>Never_worked</td>\n",
       "      <td>Rural</td>\n",
       "      <td>161.28</td>\n",
       "      <td>19.1</td>\n",
       "      <td>Unknown</td>\n",
       "      <td>0</td>\n",
       "    </tr>\n",
       "    <tr>\n",
       "      <th>603</th>\n",
       "      <td>Male</td>\n",
       "      <td>23.0</td>\n",
       "      <td>0</td>\n",
       "      <td>0</td>\n",
       "      <td>No</td>\n",
       "      <td>Never_worked</td>\n",
       "      <td>Urban</td>\n",
       "      <td>125.26</td>\n",
       "      <td>18.7</td>\n",
       "      <td>never smoked</td>\n",
       "      <td>0</td>\n",
       "    </tr>\n",
       "    <tr>\n",
       "      <th>886</th>\n",
       "      <td>Female</td>\n",
       "      <td>19.0</td>\n",
       "      <td>0</td>\n",
       "      <td>0</td>\n",
       "      <td>No</td>\n",
       "      <td>Never_worked</td>\n",
       "      <td>Urban</td>\n",
       "      <td>86.96</td>\n",
       "      <td>25.8</td>\n",
       "      <td>never smoked</td>\n",
       "      <td>0</td>\n",
       "    </tr>\n",
       "    <tr>\n",
       "      <th>939</th>\n",
       "      <td>Male</td>\n",
       "      <td>13.0</td>\n",
       "      <td>0</td>\n",
       "      <td>0</td>\n",
       "      <td>No</td>\n",
       "      <td>Never_worked</td>\n",
       "      <td>Rural</td>\n",
       "      <td>111.48</td>\n",
       "      <td>20.8</td>\n",
       "      <td>Unknown</td>\n",
       "      <td>0</td>\n",
       "    </tr>\n",
       "    <tr>\n",
       "      <th>959</th>\n",
       "      <td>Male</td>\n",
       "      <td>17.0</td>\n",
       "      <td>0</td>\n",
       "      <td>0</td>\n",
       "      <td>No</td>\n",
       "      <td>Never_worked</td>\n",
       "      <td>Urban</td>\n",
       "      <td>113.25</td>\n",
       "      <td>23.4</td>\n",
       "      <td>never smoked</td>\n",
       "      <td>0</td>\n",
       "    </tr>\n",
       "    <tr>\n",
       "      <th>1462</th>\n",
       "      <td>Male</td>\n",
       "      <td>17.0</td>\n",
       "      <td>0</td>\n",
       "      <td>0</td>\n",
       "      <td>No</td>\n",
       "      <td>Never_worked</td>\n",
       "      <td>Rural</td>\n",
       "      <td>61.01</td>\n",
       "      <td>32.5</td>\n",
       "      <td>Unknown</td>\n",
       "      <td>0</td>\n",
       "    </tr>\n",
       "    <tr>\n",
       "      <th>1789</th>\n",
       "      <td>Female</td>\n",
       "      <td>13.0</td>\n",
       "      <td>0</td>\n",
       "      <td>0</td>\n",
       "      <td>No</td>\n",
       "      <td>Never_worked</td>\n",
       "      <td>Urban</td>\n",
       "      <td>70.93</td>\n",
       "      <td>22.9</td>\n",
       "      <td>never smoked</td>\n",
       "      <td>0</td>\n",
       "    </tr>\n",
       "    <tr>\n",
       "      <th>1922</th>\n",
       "      <td>Male</td>\n",
       "      <td>16.0</td>\n",
       "      <td>0</td>\n",
       "      <td>0</td>\n",
       "      <td>No</td>\n",
       "      <td>Never_worked</td>\n",
       "      <td>Urban</td>\n",
       "      <td>59.99</td>\n",
       "      <td>28.2</td>\n",
       "      <td>never smoked</td>\n",
       "      <td>0</td>\n",
       "    </tr>\n",
       "    <tr>\n",
       "      <th>2346</th>\n",
       "      <td>Female</td>\n",
       "      <td>14.0</td>\n",
       "      <td>0</td>\n",
       "      <td>0</td>\n",
       "      <td>No</td>\n",
       "      <td>Never_worked</td>\n",
       "      <td>Urban</td>\n",
       "      <td>148.37</td>\n",
       "      <td>22.7</td>\n",
       "      <td>never smoked</td>\n",
       "      <td>0</td>\n",
       "    </tr>\n",
       "    <tr>\n",
       "      <th>2721</th>\n",
       "      <td>Female</td>\n",
       "      <td>17.0</td>\n",
       "      <td>0</td>\n",
       "      <td>0</td>\n",
       "      <td>No</td>\n",
       "      <td>Never_worked</td>\n",
       "      <td>Rural</td>\n",
       "      <td>88.57</td>\n",
       "      <td>31.1</td>\n",
       "      <td>never smoked</td>\n",
       "      <td>0</td>\n",
       "    </tr>\n",
       "    <tr>\n",
       "      <th>2740</th>\n",
       "      <td>Male</td>\n",
       "      <td>15.0</td>\n",
       "      <td>0</td>\n",
       "      <td>0</td>\n",
       "      <td>No</td>\n",
       "      <td>Never_worked</td>\n",
       "      <td>Rural</td>\n",
       "      <td>79.59</td>\n",
       "      <td>28.4</td>\n",
       "      <td>Unknown</td>\n",
       "      <td>0</td>\n",
       "    </tr>\n",
       "    <tr>\n",
       "      <th>2781</th>\n",
       "      <td>Female</td>\n",
       "      <td>16.0</td>\n",
       "      <td>0</td>\n",
       "      <td>0</td>\n",
       "      <td>No</td>\n",
       "      <td>Never_worked</td>\n",
       "      <td>Urban</td>\n",
       "      <td>84.40</td>\n",
       "      <td>25.9</td>\n",
       "      <td>never smoked</td>\n",
       "      <td>0</td>\n",
       "    </tr>\n",
       "    <tr>\n",
       "      <th>2917</th>\n",
       "      <td>Female</td>\n",
       "      <td>18.0</td>\n",
       "      <td>0</td>\n",
       "      <td>0</td>\n",
       "      <td>No</td>\n",
       "      <td>Never_worked</td>\n",
       "      <td>Urban</td>\n",
       "      <td>82.36</td>\n",
       "      <td>22.7</td>\n",
       "      <td>Unknown</td>\n",
       "      <td>0</td>\n",
       "    </tr>\n",
       "    <tr>\n",
       "      <th>3196</th>\n",
       "      <td>Male</td>\n",
       "      <td>14.0</td>\n",
       "      <td>0</td>\n",
       "      <td>0</td>\n",
       "      <td>No</td>\n",
       "      <td>Never_worked</td>\n",
       "      <td>Urban</td>\n",
       "      <td>137.91</td>\n",
       "      <td>41.8</td>\n",
       "      <td>never smoked</td>\n",
       "      <td>0</td>\n",
       "    </tr>\n",
       "    <tr>\n",
       "      <th>3468</th>\n",
       "      <td>Male</td>\n",
       "      <td>17.0</td>\n",
       "      <td>0</td>\n",
       "      <td>0</td>\n",
       "      <td>No</td>\n",
       "      <td>Never_worked</td>\n",
       "      <td>Rural</td>\n",
       "      <td>124.38</td>\n",
       "      <td>31.2</td>\n",
       "      <td>never smoked</td>\n",
       "      <td>0</td>\n",
       "    </tr>\n",
       "    <tr>\n",
       "      <th>3972</th>\n",
       "      <td>Male</td>\n",
       "      <td>15.0</td>\n",
       "      <td>0</td>\n",
       "      <td>0</td>\n",
       "      <td>No</td>\n",
       "      <td>Never_worked</td>\n",
       "      <td>Urban</td>\n",
       "      <td>64.29</td>\n",
       "      <td>16.7</td>\n",
       "      <td>Unknown</td>\n",
       "      <td>0</td>\n",
       "    </tr>\n",
       "    <tr>\n",
       "      <th>4068</th>\n",
       "      <td>Female</td>\n",
       "      <td>16.0</td>\n",
       "      <td>0</td>\n",
       "      <td>0</td>\n",
       "      <td>No</td>\n",
       "      <td>Never_worked</td>\n",
       "      <td>Urban</td>\n",
       "      <td>102.10</td>\n",
       "      <td>27.1</td>\n",
       "      <td>never smoked</td>\n",
       "      <td>0</td>\n",
       "    </tr>\n",
       "    <tr>\n",
       "      <th>4160</th>\n",
       "      <td>Female</td>\n",
       "      <td>18.0</td>\n",
       "      <td>0</td>\n",
       "      <td>0</td>\n",
       "      <td>No</td>\n",
       "      <td>Never_worked</td>\n",
       "      <td>Urban</td>\n",
       "      <td>81.73</td>\n",
       "      <td>21.6</td>\n",
       "      <td>never smoked</td>\n",
       "      <td>0</td>\n",
       "    </tr>\n",
       "    <tr>\n",
       "      <th>4410</th>\n",
       "      <td>Male</td>\n",
       "      <td>13.0</td>\n",
       "      <td>0</td>\n",
       "      <td>0</td>\n",
       "      <td>No</td>\n",
       "      <td>Never_worked</td>\n",
       "      <td>Urban</td>\n",
       "      <td>85.08</td>\n",
       "      <td>14.6</td>\n",
       "      <td>Unknown</td>\n",
       "      <td>0</td>\n",
       "    </tr>\n",
       "    <tr>\n",
       "      <th>4611</th>\n",
       "      <td>Female</td>\n",
       "      <td>17.0</td>\n",
       "      <td>0</td>\n",
       "      <td>0</td>\n",
       "      <td>No</td>\n",
       "      <td>Never_worked</td>\n",
       "      <td>Urban</td>\n",
       "      <td>78.08</td>\n",
       "      <td>44.9</td>\n",
       "      <td>never smoked</td>\n",
       "      <td>0</td>\n",
       "    </tr>\n",
       "    <tr>\n",
       "      <th>4772</th>\n",
       "      <td>Female</td>\n",
       "      <td>18.0</td>\n",
       "      <td>0</td>\n",
       "      <td>0</td>\n",
       "      <td>No</td>\n",
       "      <td>Never_worked</td>\n",
       "      <td>Urban</td>\n",
       "      <td>97.65</td>\n",
       "      <td>21.5</td>\n",
       "      <td>Unknown</td>\n",
       "      <td>0</td>\n",
       "    </tr>\n",
       "    <tr>\n",
       "      <th>4785</th>\n",
       "      <td>Female</td>\n",
       "      <td>16.0</td>\n",
       "      <td>0</td>\n",
       "      <td>0</td>\n",
       "      <td>No</td>\n",
       "      <td>Never_worked</td>\n",
       "      <td>Rural</td>\n",
       "      <td>68.27</td>\n",
       "      <td>20.4</td>\n",
       "      <td>never smoked</td>\n",
       "      <td>0</td>\n",
       "    </tr>\n",
       "  </tbody>\n",
       "</table>\n",
       "</div>"
      ],
      "text/plain": [
       "      gender   age  hypertension  heart_disease ever_married     work_type  \\\n",
       "253     Male  14.0             0              0           No  Never_worked   \n",
       "603     Male  23.0             0              0           No  Never_worked   \n",
       "886   Female  19.0             0              0           No  Never_worked   \n",
       "939     Male  13.0             0              0           No  Never_worked   \n",
       "959     Male  17.0             0              0           No  Never_worked   \n",
       "1462    Male  17.0             0              0           No  Never_worked   \n",
       "1789  Female  13.0             0              0           No  Never_worked   \n",
       "1922    Male  16.0             0              0           No  Never_worked   \n",
       "2346  Female  14.0             0              0           No  Never_worked   \n",
       "2721  Female  17.0             0              0           No  Never_worked   \n",
       "2740    Male  15.0             0              0           No  Never_worked   \n",
       "2781  Female  16.0             0              0           No  Never_worked   \n",
       "2917  Female  18.0             0              0           No  Never_worked   \n",
       "3196    Male  14.0             0              0           No  Never_worked   \n",
       "3468    Male  17.0             0              0           No  Never_worked   \n",
       "3972    Male  15.0             0              0           No  Never_worked   \n",
       "4068  Female  16.0             0              0           No  Never_worked   \n",
       "4160  Female  18.0             0              0           No  Never_worked   \n",
       "4410    Male  13.0             0              0           No  Never_worked   \n",
       "4611  Female  17.0             0              0           No  Never_worked   \n",
       "4772  Female  18.0             0              0           No  Never_worked   \n",
       "4785  Female  16.0             0              0           No  Never_worked   \n",
       "\n",
       "     Residence_type  avg_glucose_level   bmi smoking_status  stroke  \n",
       "253           Rural             161.28  19.1        Unknown       0  \n",
       "603           Urban             125.26  18.7   never smoked       0  \n",
       "886           Urban              86.96  25.8   never smoked       0  \n",
       "939           Rural             111.48  20.8        Unknown       0  \n",
       "959           Urban             113.25  23.4   never smoked       0  \n",
       "1462          Rural              61.01  32.5        Unknown       0  \n",
       "1789          Urban              70.93  22.9   never smoked       0  \n",
       "1922          Urban              59.99  28.2   never smoked       0  \n",
       "2346          Urban             148.37  22.7   never smoked       0  \n",
       "2721          Rural              88.57  31.1   never smoked       0  \n",
       "2740          Rural              79.59  28.4        Unknown       0  \n",
       "2781          Urban              84.40  25.9   never smoked       0  \n",
       "2917          Urban              82.36  22.7        Unknown       0  \n",
       "3196          Urban             137.91  41.8   never smoked       0  \n",
       "3468          Rural             124.38  31.2   never smoked       0  \n",
       "3972          Urban              64.29  16.7        Unknown       0  \n",
       "4068          Urban             102.10  27.1   never smoked       0  \n",
       "4160          Urban              81.73  21.6   never smoked       0  \n",
       "4410          Urban              85.08  14.6        Unknown       0  \n",
       "4611          Urban              78.08  44.9   never smoked       0  \n",
       "4772          Urban              97.65  21.5        Unknown       0  \n",
       "4785          Rural              68.27  20.4   never smoked       0  "
      ]
     },
     "execution_count": 15,
     "metadata": {},
     "output_type": "execute_result"
    }
   ],
   "source": [
    "# Never worked data consist of children. That's why there are no stroke.\n",
    "df.loc[df[\"work_type\"]==\"Never_worked\"]"
   ]
  },
  {
   "cell_type": "code",
   "execution_count": 16,
   "id": "8a2fcc47",
   "metadata": {
    "execution": {
     "iopub.execute_input": "2021-08-30T13:37:23.288647Z",
     "iopub.status.busy": "2021-08-30T13:37:23.273070Z",
     "iopub.status.idle": "2021-08-30T13:37:24.126023Z",
     "shell.execute_reply": "2021-08-30T13:37:24.125201Z",
     "shell.execute_reply.started": "2021-08-30T13:35:04.875991Z"
    },
    "papermill": {
     "duration": 0.908615,
     "end_time": "2021-08-30T13:37:24.126239",
     "exception": false,
     "start_time": "2021-08-30T13:37:23.217624",
     "status": "completed"
    },
    "tags": []
   },
   "outputs": [
    {
     "data": {
      "text/plain": [
       "<AxesSubplot:xlabel='Residence_type', ylabel='stroke'>"
      ]
     },
     "execution_count": 16,
     "metadata": {},
     "output_type": "execute_result"
    },
    {
     "data": {
      "image/png": "[encoded data removed]",
      "text/plain": [
       "<Figure size 1080x936 with 2 Axes>"
      ]
     },
     "metadata": {
      "needs_background": "light"
     },
     "output_type": "display_data"
    }
   ],
   "source": [
    "fig, axis=plt.subplots(2, figsize=(15,13))\n",
    "sns.set_palette(\"pastel\")\n",
    "\n",
    "\n",
    "sns.violinplot(data=df, x=df[\"Residence_type\"], y=df[\"stroke\"], hue=df[\"gender\"],\n",
    "           ax=axis[0])\n",
    "\n",
    "sns.pointplot(data=df, x=df[\"Residence_type\"], y=df[\"stroke\"], hue=df[\"gender\"],\n",
    "           ax=axis[1])"
   ]
  },
  {
   "cell_type": "code",
   "execution_count": 17,
   "id": "01e7da87",
   "metadata": {
    "execution": {
     "iopub.execute_input": "2021-08-30T13:37:24.297025Z",
     "iopub.status.busy": "2021-08-30T13:37:24.295929Z",
     "iopub.status.idle": "2021-08-30T13:37:25.454275Z",
     "shell.execute_reply": "2021-08-30T13:37:25.454726Z",
     "shell.execute_reply.started": "2021-08-30T13:35:05.628456Z"
    },
    "papermill": {
     "duration": 1.251864,
     "end_time": "2021-08-30T13:37:25.454899",
     "exception": false,
     "start_time": "2021-08-30T13:37:24.203035",
     "status": "completed"
    },
    "tags": []
   },
   "outputs": [
    {
     "data": {
      "text/plain": [
       "<AxesSubplot:xlabel='smoking_status', ylabel='stroke'>"
      ]
     },
     "execution_count": 17,
     "metadata": {},
     "output_type": "execute_result"
    },
    {
     "data": {
      "image/png": "[encoded data removed]",
      "text/plain": [
       "<Figure size 1080x936 with 2 Axes>"
      ]
     },
     "metadata": {
      "needs_background": "light"
     },
     "output_type": "display_data"
    }
   ],
   "source": [
    "fig, axis=plt.subplots(2, figsize=(15,13))\n",
    "sns.set_palette(\"pastel\")\n",
    "\n",
    "sns.violinplot(data=df, x=df[\"smoking_status\"], y=df[\"stroke\"], hue=df[\"gender\"],\n",
    "           ax=axis[0])\n",
    "\n",
    "sns.pointplot(data=df, x=df[\"smoking_status\"], y=df[\"stroke\"], hue=df[\"gender\"],\n",
    "           ax=axis[1])"
   ]
  },
  {
   "cell_type": "code",
   "execution_count": 18,
   "id": "7b034385",
   "metadata": {
    "execution": {
     "iopub.execute_input": "2021-08-30T13:37:25.559380Z",
     "iopub.status.busy": "2021-08-30T13:37:25.558427Z",
     "iopub.status.idle": "2021-08-30T13:37:25.574989Z",
     "shell.execute_reply": "2021-08-30T13:37:25.574473Z",
     "shell.execute_reply.started": "2021-08-30T13:35:06.639886Z"
    },
    "papermill": {
     "duration": 0.070212,
     "end_time": "2021-08-30T13:37:25.575133",
     "exception": false,
     "start_time": "2021-08-30T13:37:25.504921",
     "status": "completed"
    },
    "tags": []
   },
   "outputs": [
    {
     "name": "stdout",
     "output_type": "stream",
     "text": [
      "Yes    3204\n",
      "No     1704\n",
      "Name: ever_married, dtype: int64\n",
      "Private          2810\n",
      "Self-employed     775\n",
      "children          671\n",
      "Govt_job          630\n",
      "Never_worked       22\n",
      "Name: work_type, dtype: int64\n",
      "Urban    2490\n",
      "Rural    2418\n",
      "Name: Residence_type, dtype: int64\n",
      "never smoked       1852\n",
      "Unknown            1483\n",
      "formerly smoked     836\n",
      "smokes              737\n",
      "Name: smoking_status, dtype: int64\n"
     ]
    }
   ],
   "source": [
    "df_categorical=[\"ever_married\",\"work_type\",\"Residence_type\",\"smoking_status\"]\n",
    "for i in df_categorical:\n",
    "    print(df[i].value_counts())"
   ]
  },
  {
   "cell_type": "code",
   "execution_count": 19,
   "id": "cde1555f",
   "metadata": {
    "execution": {
     "iopub.execute_input": "2021-08-30T13:37:25.688561Z",
     "iopub.status.busy": "2021-08-30T13:37:25.687623Z",
     "iopub.status.idle": "2021-08-30T13:37:26.259259Z",
     "shell.execute_reply": "2021-08-30T13:37:26.258585Z",
     "shell.execute_reply.started": "2021-08-30T13:35:06.657161Z"
    },
    "papermill": {
     "duration": 0.632419,
     "end_time": "2021-08-30T13:37:26.259418",
     "exception": false,
     "start_time": "2021-08-30T13:37:25.626999",
     "status": "completed"
    },
    "tags": []
   },
   "outputs": [
    {
     "data": {
      "image/png": "[encoded data removed]",
      "text/plain": [
       "<Figure size 864x360 with 1 Axes>"
      ]
     },
     "metadata": {
      "needs_background": "light"
     },
     "output_type": "display_data"
    },
    {
     "data": {
      "image/png": "[encoded data removed]",
      "text/plain": [
       "<Figure size 864x360 with 1 Axes>"
      ]
     },
     "metadata": {
      "needs_background": "light"
     },
     "output_type": "display_data"
    },
    {
     "data": {
      "image/png": "[encoded data removed]",
      "text/plain": [
       "<Figure size 864x360 with 1 Axes>"
      ]
     },
     "metadata": {
      "needs_background": "light"
     },
     "output_type": "display_data"
    },
    {
     "data": {
      "image/png": "[encoded data removed]",
      "text/plain": [
       "<Figure size 864x360 with 1 Axes>"
      ]
     },
     "metadata": {
      "needs_background": "light"
     },
     "output_type": "display_data"
    }
   ],
   "source": [
    "for i in df_categorical:\n",
    "    plt.figure(figsize=(12,5))\n",
    "    sns.countplot(x=df[i])\n",
    "    plt.show()"
   ]
  },
  {
   "cell_type": "markdown",
   "id": "f2063037",
   "metadata": {
    "papermill": {
     "duration": 0.054707,
     "end_time": "2021-08-30T13:37:26.375232",
     "exception": false,
     "start_time": "2021-08-30T13:37:26.320525",
     "status": "completed"
    },
    "tags": []
   },
   "source": [
    "**Creating Some New Columns**"
   ]
  },
  {
   "cell_type": "code",
   "execution_count": 20,
   "id": "9c57f5ae",
   "metadata": {
    "execution": {
     "iopub.execute_input": "2021-08-30T13:37:26.490901Z",
     "iopub.status.busy": "2021-08-30T13:37:26.489903Z",
     "iopub.status.idle": "2021-08-30T13:37:26.563142Z",
     "shell.execute_reply": "2021-08-30T13:37:26.563648Z",
     "shell.execute_reply.started": "2021-08-30T13:35:07.180666Z"
    },
    "papermill": {
     "duration": 0.134321,
     "end_time": "2021-08-30T13:37:26.563839",
     "exception": false,
     "start_time": "2021-08-30T13:37:26.429518",
     "status": "completed"
    },
    "tags": []
   },
   "outputs": [],
   "source": [
    "def Age(age):\n",
    "    if (age>=0 and age<18): return \"Child\"\n",
    "    if (age>=18 and age<44): return \"Adult\"\n",
    "    if (age>=44 and age<60): return \"Late Adult\"\n",
    "    if (age>=60 and age<82): return \"Old\"\n",
    "\n",
    "df[\"age_gap\"]=df.apply(lambda x: Age(x[\"age\"]),axis=1)\n",
    "\n",
    "df.drop(columns=[\"age\"],axis=1,inplace=True)"
   ]
  },
  {
   "cell_type": "code",
   "execution_count": 21,
   "id": "478bf63d",
   "metadata": {
    "execution": {
     "iopub.execute_input": "2021-08-30T13:37:26.677056Z",
     "iopub.status.busy": "2021-08-30T13:37:26.676030Z",
     "iopub.status.idle": "2021-08-30T13:37:26.684931Z",
     "shell.execute_reply": "2021-08-30T13:37:26.685406Z",
     "shell.execute_reply.started": "2021-08-30T13:35:07.258166Z"
    },
    "papermill": {
     "duration": 0.06641,
     "end_time": "2021-08-30T13:37:26.685588",
     "exception": false,
     "start_time": "2021-08-30T13:37:26.619178",
     "status": "completed"
    },
    "tags": []
   },
   "outputs": [
    {
     "data": {
      "text/plain": [
       "Adult         1554\n",
       "Late Adult    1233\n",
       "Old           1230\n",
       "Child          836\n",
       "Name: age_gap, dtype: int64"
      ]
     },
     "execution_count": 21,
     "metadata": {},
     "output_type": "execute_result"
    }
   ],
   "source": [
    "df.age_gap.value_counts()"
   ]
  },
  {
   "cell_type": "code",
   "execution_count": 22,
   "id": "ccf5d589",
   "metadata": {
    "execution": {
     "iopub.execute_input": "2021-08-30T13:37:26.812645Z",
     "iopub.status.busy": "2021-08-30T13:37:26.807349Z",
     "iopub.status.idle": "2021-08-30T13:37:26.878690Z",
     "shell.execute_reply": "2021-08-30T13:37:26.879228Z",
     "shell.execute_reply.started": "2021-08-30T13:35:07.268823Z"
    },
    "papermill": {
     "duration": 0.135109,
     "end_time": "2021-08-30T13:37:26.879412",
     "exception": false,
     "start_time": "2021-08-30T13:37:26.744303",
     "status": "completed"
    },
    "tags": []
   },
   "outputs": [],
   "source": [
    "def BMI(bmi):\n",
    "    if (bmi>=0 and bmi<18): return \"Underweight\"\n",
    "    if (bmi>=18 and bmi<25): return \"Normal_weight\"\n",
    "    if (bmi>=25 and bmi<29): return \"Overweight\"\n",
    "    if (bmi>30): return \"Obesity\"\n",
    "\n",
    "df[\"bmi_gap\"]=df.apply(lambda x: BMI(x[\"bmi\"]),axis=1)\n",
    "\n",
    "df.drop(columns=[\"bmi\"],axis=1,inplace=True)"
   ]
  },
  {
   "cell_type": "code",
   "execution_count": 23,
   "id": "4897e539",
   "metadata": {
    "execution": {
     "iopub.execute_input": "2021-08-30T13:37:26.994963Z",
     "iopub.status.busy": "2021-08-30T13:37:26.994265Z",
     "iopub.status.idle": "2021-08-30T13:37:27.066505Z",
     "shell.execute_reply": "2021-08-30T13:37:27.067017Z",
     "shell.execute_reply.started": "2021-08-30T13:35:07.349674Z"
    },
    "papermill": {
     "duration": 0.130173,
     "end_time": "2021-08-30T13:37:27.067236",
     "exception": false,
     "start_time": "2021-08-30T13:37:26.937063",
     "status": "completed"
    },
    "tags": []
   },
   "outputs": [],
   "source": [
    "def Glucose(avg_glucose_level):\n",
    "    if (avg_glucose_level>=0 and avg_glucose_level<145): return \"Good\"\n",
    "    if (avg_glucose_level>=145 and avg_glucose_level<200): return \"Okay\"\n",
    "    if (avg_glucose_level>=200): return \"Bad\"\n",
    "\n",
    "df[\"Glucose\"]=df.apply(lambda x: Glucose(x[\"avg_glucose_level\"]),axis=1)\n",
    "\n",
    "df.drop(columns=[\"avg_glucose_level\"],axis=1,inplace=True)"
   ]
  },
  {
   "cell_type": "code",
   "execution_count": 24,
   "id": "7ede5d3f",
   "metadata": {
    "execution": {
     "iopub.execute_input": "2021-08-30T13:37:27.190260Z",
     "iopub.status.busy": "2021-08-30T13:37:27.189549Z",
     "iopub.status.idle": "2021-08-30T13:37:27.583769Z",
     "shell.execute_reply": "2021-08-30T13:37:27.583136Z",
     "shell.execute_reply.started": "2021-08-30T13:35:07.421940Z"
    },
    "papermill": {
     "duration": 0.457232,
     "end_time": "2021-08-30T13:37:27.583931",
     "exception": false,
     "start_time": "2021-08-30T13:37:27.126699",
     "status": "completed"
    },
    "tags": []
   },
   "outputs": [
    {
     "data": {
      "text/plain": [
       "<AxesSubplot:xlabel='Glucose', ylabel='stroke'>"
      ]
     },
     "execution_count": 24,
     "metadata": {},
     "output_type": "execute_result"
    },
    {
     "data": {
      "image/png": "[encoded data removed]",
      "text/plain": [
       "<Figure size 432x288 with 1 Axes>"
      ]
     },
     "metadata": {
      "needs_background": "light"
     },
     "output_type": "display_data"
    }
   ],
   "source": [
    "sns.pointplot(x=df[\"Glucose\"],y=df[\"stroke\"])"
   ]
  },
  {
   "cell_type": "code",
   "execution_count": 25,
   "id": "4b13305b",
   "metadata": {
    "execution": {
     "iopub.execute_input": "2021-08-30T13:37:27.712777Z",
     "iopub.status.busy": "2021-08-30T13:37:27.711907Z",
     "iopub.status.idle": "2021-08-30T13:37:27.748795Z",
     "shell.execute_reply": "2021-08-30T13:37:27.749635Z",
     "shell.execute_reply.started": "2021-08-30T13:35:07.724605Z"
    },
    "papermill": {
     "duration": 0.103223,
     "end_time": "2021-08-30T13:37:27.749842",
     "exception": false,
     "start_time": "2021-08-30T13:37:27.646619",
     "status": "completed"
    },
    "tags": []
   },
   "outputs": [
    {
     "data": {
      "text/html": [
       "<div>\n",
       "<style scoped>\n",
       "    .dataframe tbody tr th:only-of-type {\n",
       "        vertical-align: middle;\n",
       "    }\n",
       "\n",
       "    .dataframe tbody tr th {\n",
       "        vertical-align: top;\n",
       "    }\n",
       "\n",
       "    .dataframe thead th {\n",
       "        text-align: right;\n",
       "    }\n",
       "</style>\n",
       "<table border=\"1\" class=\"dataframe\">\n",
       "  <thead>\n",
       "    <tr style=\"text-align: right;\">\n",
       "      <th></th>\n",
       "      <th>hypertension</th>\n",
       "      <th>heart_disease</th>\n",
       "      <th>stroke</th>\n",
       "      <th>gender_Female</th>\n",
       "      <th>gender_Male</th>\n",
       "      <th>ever_married_No</th>\n",
       "      <th>ever_married_Yes</th>\n",
       "      <th>work_type_Govt_job</th>\n",
       "      <th>work_type_Never_worked</th>\n",
       "      <th>work_type_Private</th>\n",
       "      <th>...</th>\n",
       "      <th>age_gap_Child</th>\n",
       "      <th>age_gap_Late Adult</th>\n",
       "      <th>age_gap_Old</th>\n",
       "      <th>bmi_gap_Normal_weight</th>\n",
       "      <th>bmi_gap_Obesity</th>\n",
       "      <th>bmi_gap_Overweight</th>\n",
       "      <th>bmi_gap_Underweight</th>\n",
       "      <th>Glucose_Bad</th>\n",
       "      <th>Glucose_Good</th>\n",
       "      <th>Glucose_Okay</th>\n",
       "    </tr>\n",
       "  </thead>\n",
       "  <tbody>\n",
       "    <tr>\n",
       "      <th>0</th>\n",
       "      <td>0</td>\n",
       "      <td>1</td>\n",
       "      <td>1</td>\n",
       "      <td>0</td>\n",
       "      <td>1</td>\n",
       "      <td>0</td>\n",
       "      <td>1</td>\n",
       "      <td>0</td>\n",
       "      <td>0</td>\n",
       "      <td>1</td>\n",
       "      <td>...</td>\n",
       "      <td>0</td>\n",
       "      <td>0</td>\n",
       "      <td>1</td>\n",
       "      <td>0</td>\n",
       "      <td>1</td>\n",
       "      <td>0</td>\n",
       "      <td>0</td>\n",
       "      <td>1</td>\n",
       "      <td>0</td>\n",
       "      <td>0</td>\n",
       "    </tr>\n",
       "    <tr>\n",
       "      <th>2</th>\n",
       "      <td>0</td>\n",
       "      <td>1</td>\n",
       "      <td>1</td>\n",
       "      <td>0</td>\n",
       "      <td>1</td>\n",
       "      <td>0</td>\n",
       "      <td>1</td>\n",
       "      <td>0</td>\n",
       "      <td>0</td>\n",
       "      <td>1</td>\n",
       "      <td>...</td>\n",
       "      <td>0</td>\n",
       "      <td>0</td>\n",
       "      <td>1</td>\n",
       "      <td>0</td>\n",
       "      <td>1</td>\n",
       "      <td>0</td>\n",
       "      <td>0</td>\n",
       "      <td>0</td>\n",
       "      <td>1</td>\n",
       "      <td>0</td>\n",
       "    </tr>\n",
       "    <tr>\n",
       "      <th>3</th>\n",
       "      <td>0</td>\n",
       "      <td>0</td>\n",
       "      <td>1</td>\n",
       "      <td>1</td>\n",
       "      <td>0</td>\n",
       "      <td>0</td>\n",
       "      <td>1</td>\n",
       "      <td>0</td>\n",
       "      <td>0</td>\n",
       "      <td>1</td>\n",
       "      <td>...</td>\n",
       "      <td>0</td>\n",
       "      <td>1</td>\n",
       "      <td>0</td>\n",
       "      <td>0</td>\n",
       "      <td>1</td>\n",
       "      <td>0</td>\n",
       "      <td>0</td>\n",
       "      <td>0</td>\n",
       "      <td>0</td>\n",
       "      <td>1</td>\n",
       "    </tr>\n",
       "    <tr>\n",
       "      <th>4</th>\n",
       "      <td>1</td>\n",
       "      <td>0</td>\n",
       "      <td>1</td>\n",
       "      <td>1</td>\n",
       "      <td>0</td>\n",
       "      <td>0</td>\n",
       "      <td>1</td>\n",
       "      <td>0</td>\n",
       "      <td>0</td>\n",
       "      <td>0</td>\n",
       "      <td>...</td>\n",
       "      <td>0</td>\n",
       "      <td>0</td>\n",
       "      <td>1</td>\n",
       "      <td>1</td>\n",
       "      <td>0</td>\n",
       "      <td>0</td>\n",
       "      <td>0</td>\n",
       "      <td>0</td>\n",
       "      <td>0</td>\n",
       "      <td>1</td>\n",
       "    </tr>\n",
       "    <tr>\n",
       "      <th>5</th>\n",
       "      <td>0</td>\n",
       "      <td>0</td>\n",
       "      <td>1</td>\n",
       "      <td>0</td>\n",
       "      <td>1</td>\n",
       "      <td>0</td>\n",
       "      <td>1</td>\n",
       "      <td>0</td>\n",
       "      <td>0</td>\n",
       "      <td>1</td>\n",
       "      <td>...</td>\n",
       "      <td>0</td>\n",
       "      <td>0</td>\n",
       "      <td>1</td>\n",
       "      <td>0</td>\n",
       "      <td>0</td>\n",
       "      <td>0</td>\n",
       "      <td>0</td>\n",
       "      <td>0</td>\n",
       "      <td>0</td>\n",
       "      <td>1</td>\n",
       "    </tr>\n",
       "    <tr>\n",
       "      <th>...</th>\n",
       "      <td>...</td>\n",
       "      <td>...</td>\n",
       "      <td>...</td>\n",
       "      <td>...</td>\n",
       "      <td>...</td>\n",
       "      <td>...</td>\n",
       "      <td>...</td>\n",
       "      <td>...</td>\n",
       "      <td>...</td>\n",
       "      <td>...</td>\n",
       "      <td>...</td>\n",
       "      <td>...</td>\n",
       "      <td>...</td>\n",
       "      <td>...</td>\n",
       "      <td>...</td>\n",
       "      <td>...</td>\n",
       "      <td>...</td>\n",
       "      <td>...</td>\n",
       "      <td>...</td>\n",
       "      <td>...</td>\n",
       "      <td>...</td>\n",
       "    </tr>\n",
       "    <tr>\n",
       "      <th>5104</th>\n",
       "      <td>0</td>\n",
       "      <td>0</td>\n",
       "      <td>0</td>\n",
       "      <td>1</td>\n",
       "      <td>0</td>\n",
       "      <td>1</td>\n",
       "      <td>0</td>\n",
       "      <td>0</td>\n",
       "      <td>0</td>\n",
       "      <td>0</td>\n",
       "      <td>...</td>\n",
       "      <td>1</td>\n",
       "      <td>0</td>\n",
       "      <td>0</td>\n",
       "      <td>1</td>\n",
       "      <td>0</td>\n",
       "      <td>0</td>\n",
       "      <td>0</td>\n",
       "      <td>0</td>\n",
       "      <td>1</td>\n",
       "      <td>0</td>\n",
       "    </tr>\n",
       "    <tr>\n",
       "      <th>5106</th>\n",
       "      <td>0</td>\n",
       "      <td>0</td>\n",
       "      <td>0</td>\n",
       "      <td>1</td>\n",
       "      <td>0</td>\n",
       "      <td>0</td>\n",
       "      <td>1</td>\n",
       "      <td>0</td>\n",
       "      <td>0</td>\n",
       "      <td>0</td>\n",
       "      <td>...</td>\n",
       "      <td>0</td>\n",
       "      <td>0</td>\n",
       "      <td>1</td>\n",
       "      <td>0</td>\n",
       "      <td>1</td>\n",
       "      <td>0</td>\n",
       "      <td>0</td>\n",
       "      <td>0</td>\n",
       "      <td>1</td>\n",
       "      <td>0</td>\n",
       "    </tr>\n",
       "    <tr>\n",
       "      <th>5107</th>\n",
       "      <td>0</td>\n",
       "      <td>0</td>\n",
       "      <td>0</td>\n",
       "      <td>1</td>\n",
       "      <td>0</td>\n",
       "      <td>0</td>\n",
       "      <td>1</td>\n",
       "      <td>0</td>\n",
       "      <td>0</td>\n",
       "      <td>0</td>\n",
       "      <td>...</td>\n",
       "      <td>0</td>\n",
       "      <td>0</td>\n",
       "      <td>0</td>\n",
       "      <td>0</td>\n",
       "      <td>1</td>\n",
       "      <td>0</td>\n",
       "      <td>0</td>\n",
       "      <td>0</td>\n",
       "      <td>1</td>\n",
       "      <td>0</td>\n",
       "    </tr>\n",
       "    <tr>\n",
       "      <th>5108</th>\n",
       "      <td>0</td>\n",
       "      <td>0</td>\n",
       "      <td>0</td>\n",
       "      <td>0</td>\n",
       "      <td>1</td>\n",
       "      <td>0</td>\n",
       "      <td>1</td>\n",
       "      <td>0</td>\n",
       "      <td>0</td>\n",
       "      <td>1</td>\n",
       "      <td>...</td>\n",
       "      <td>0</td>\n",
       "      <td>1</td>\n",
       "      <td>0</td>\n",
       "      <td>0</td>\n",
       "      <td>0</td>\n",
       "      <td>1</td>\n",
       "      <td>0</td>\n",
       "      <td>0</td>\n",
       "      <td>0</td>\n",
       "      <td>1</td>\n",
       "    </tr>\n",
       "    <tr>\n",
       "      <th>5109</th>\n",
       "      <td>0</td>\n",
       "      <td>0</td>\n",
       "      <td>0</td>\n",
       "      <td>1</td>\n",
       "      <td>0</td>\n",
       "      <td>0</td>\n",
       "      <td>1</td>\n",
       "      <td>1</td>\n",
       "      <td>0</td>\n",
       "      <td>0</td>\n",
       "      <td>...</td>\n",
       "      <td>0</td>\n",
       "      <td>1</td>\n",
       "      <td>0</td>\n",
       "      <td>0</td>\n",
       "      <td>0</td>\n",
       "      <td>1</td>\n",
       "      <td>0</td>\n",
       "      <td>0</td>\n",
       "      <td>1</td>\n",
       "      <td>0</td>\n",
       "    </tr>\n",
       "  </tbody>\n",
       "</table>\n",
       "<p>4908 rows × 29 columns</p>\n",
       "</div>"
      ],
      "text/plain": [
       "      hypertension  heart_disease  stroke  gender_Female  gender_Male  \\\n",
       "0                0              1       1              0            1   \n",
       "2                0              1       1              0            1   \n",
       "3                0              0       1              1            0   \n",
       "4                1              0       1              1            0   \n",
       "5                0              0       1              0            1   \n",
       "...            ...            ...     ...            ...          ...   \n",
       "5104             0              0       0              1            0   \n",
       "5106             0              0       0              1            0   \n",
       "5107             0              0       0              1            0   \n",
       "5108             0              0       0              0            1   \n",
       "5109             0              0       0              1            0   \n",
       "\n",
       "      ever_married_No  ever_married_Yes  work_type_Govt_job  \\\n",
       "0                   0                 1                   0   \n",
       "2                   0                 1                   0   \n",
       "3                   0                 1                   0   \n",
       "4                   0                 1                   0   \n",
       "5                   0                 1                   0   \n",
       "...               ...               ...                 ...   \n",
       "5104                1                 0                   0   \n",
       "5106                0                 1                   0   \n",
       "5107                0                 1                   0   \n",
       "5108                0                 1                   0   \n",
       "5109                0                 1                   1   \n",
       "\n",
       "      work_type_Never_worked  work_type_Private  ...  age_gap_Child  \\\n",
       "0                          0                  1  ...              0   \n",
       "2                          0                  1  ...              0   \n",
       "3                          0                  1  ...              0   \n",
       "4                          0                  0  ...              0   \n",
       "5                          0                  1  ...              0   \n",
       "...                      ...                ...  ...            ...   \n",
       "5104                       0                  0  ...              1   \n",
       "5106                       0                  0  ...              0   \n",
       "5107                       0                  0  ...              0   \n",
       "5108                       0                  1  ...              0   \n",
       "5109                       0                  0  ...              0   \n",
       "\n",
       "      age_gap_Late Adult  age_gap_Old  bmi_gap_Normal_weight  bmi_gap_Obesity  \\\n",
       "0                      0            1                      0                1   \n",
       "2                      0            1                      0                1   \n",
       "3                      1            0                      0                1   \n",
       "4                      0            1                      1                0   \n",
       "5                      0            1                      0                0   \n",
       "...                  ...          ...                    ...              ...   \n",
       "5104                   0            0                      1                0   \n",
       "5106                   0            1                      0                1   \n",
       "5107                   0            0                      0                1   \n",
       "5108                   1            0                      0                0   \n",
       "5109                   1            0                      0                0   \n",
       "\n",
       "      bmi_gap_Overweight  bmi_gap_Underweight  Glucose_Bad  Glucose_Good  \\\n",
       "0                      0                    0            1             0   \n",
       "2                      0                    0            0             1   \n",
       "3                      0                    0            0             0   \n",
       "4                      0                    0            0             0   \n",
       "5                      0                    0            0             0   \n",
       "...                  ...                  ...          ...           ...   \n",
       "5104                   0                    0            0             1   \n",
       "5106                   0                    0            0             1   \n",
       "5107                   0                    0            0             1   \n",
       "5108                   1                    0            0             0   \n",
       "5109                   1                    0            0             1   \n",
       "\n",
       "      Glucose_Okay  \n",
       "0                0  \n",
       "2                0  \n",
       "3                1  \n",
       "4                1  \n",
       "5                1  \n",
       "...            ...  \n",
       "5104             0  \n",
       "5106             0  \n",
       "5107             0  \n",
       "5108             1  \n",
       "5109             0  \n",
       "\n",
       "[4908 rows x 29 columns]"
      ]
     },
     "execution_count": 25,
     "metadata": {},
     "output_type": "execute_result"
    }
   ],
   "source": [
    "# Dummy variable\n",
    "one_hot_encoded_data=pd.get_dummies(df, columns=[\"gender\",\"ever_married\",\n",
    "                                                 \"work_type\",\"Residence_type\",\n",
    "                                                \"smoking_status\",\"age_gap\",\n",
    "                                                \"bmi_gap\",\"Glucose\"])\n",
    "one_hot_encoded_data"
   ]
  },
  {
   "cell_type": "code",
   "execution_count": 26,
   "id": "7f21b498",
   "metadata": {
    "execution": {
     "iopub.execute_input": "2021-08-30T13:37:27.873180Z",
     "iopub.status.busy": "2021-08-30T13:37:27.872536Z",
     "iopub.status.idle": "2021-08-30T13:37:27.900365Z",
     "shell.execute_reply": "2021-08-30T13:37:27.900895Z",
     "shell.execute_reply.started": "2021-08-30T13:35:07.771659Z"
    },
    "papermill": {
     "duration": 0.088897,
     "end_time": "2021-08-30T13:37:27.901078",
     "exception": false,
     "start_time": "2021-08-30T13:37:27.812181",
     "status": "completed"
    },
    "tags": []
   },
   "outputs": [
    {
     "data": {
      "text/html": [
       "<div>\n",
       "<style scoped>\n",
       "    .dataframe tbody tr th:only-of-type {\n",
       "        vertical-align: middle;\n",
       "    }\n",
       "\n",
       "    .dataframe tbody tr th {\n",
       "        vertical-align: top;\n",
       "    }\n",
       "\n",
       "    .dataframe thead th {\n",
       "        text-align: right;\n",
       "    }\n",
       "</style>\n",
       "<table border=\"1\" class=\"dataframe\">\n",
       "  <thead>\n",
       "    <tr style=\"text-align: right;\">\n",
       "      <th></th>\n",
       "      <th>gender</th>\n",
       "      <th>hypertension</th>\n",
       "      <th>heart_disease</th>\n",
       "      <th>ever_married</th>\n",
       "      <th>work_type</th>\n",
       "      <th>Residence_type</th>\n",
       "      <th>smoking_status</th>\n",
       "      <th>stroke</th>\n",
       "      <th>age_gap</th>\n",
       "      <th>bmi_gap</th>\n",
       "      <th>...</th>\n",
       "      <th>age_gap_Child</th>\n",
       "      <th>age_gap_Late Adult</th>\n",
       "      <th>age_gap_Old</th>\n",
       "      <th>bmi_gap_Normal_weight</th>\n",
       "      <th>bmi_gap_Obesity</th>\n",
       "      <th>bmi_gap_Overweight</th>\n",
       "      <th>bmi_gap_Underweight</th>\n",
       "      <th>Glucose_Bad</th>\n",
       "      <th>Glucose_Good</th>\n",
       "      <th>Glucose_Okay</th>\n",
       "    </tr>\n",
       "  </thead>\n",
       "  <tbody>\n",
       "    <tr>\n",
       "      <th>0</th>\n",
       "      <td>Male</td>\n",
       "      <td>0</td>\n",
       "      <td>1</td>\n",
       "      <td>Yes</td>\n",
       "      <td>Private</td>\n",
       "      <td>Urban</td>\n",
       "      <td>formerly smoked</td>\n",
       "      <td>1</td>\n",
       "      <td>Old</td>\n",
       "      <td>Obesity</td>\n",
       "      <td>...</td>\n",
       "      <td>0</td>\n",
       "      <td>0</td>\n",
       "      <td>1</td>\n",
       "      <td>0</td>\n",
       "      <td>1</td>\n",
       "      <td>0</td>\n",
       "      <td>0</td>\n",
       "      <td>1</td>\n",
       "      <td>0</td>\n",
       "      <td>0</td>\n",
       "    </tr>\n",
       "    <tr>\n",
       "      <th>2</th>\n",
       "      <td>Male</td>\n",
       "      <td>0</td>\n",
       "      <td>1</td>\n",
       "      <td>Yes</td>\n",
       "      <td>Private</td>\n",
       "      <td>Rural</td>\n",
       "      <td>never smoked</td>\n",
       "      <td>1</td>\n",
       "      <td>Old</td>\n",
       "      <td>Obesity</td>\n",
       "      <td>...</td>\n",
       "      <td>0</td>\n",
       "      <td>0</td>\n",
       "      <td>1</td>\n",
       "      <td>0</td>\n",
       "      <td>1</td>\n",
       "      <td>0</td>\n",
       "      <td>0</td>\n",
       "      <td>0</td>\n",
       "      <td>1</td>\n",
       "      <td>0</td>\n",
       "    </tr>\n",
       "    <tr>\n",
       "      <th>3</th>\n",
       "      <td>Female</td>\n",
       "      <td>0</td>\n",
       "      <td>0</td>\n",
       "      <td>Yes</td>\n",
       "      <td>Private</td>\n",
       "      <td>Urban</td>\n",
       "      <td>smokes</td>\n",
       "      <td>1</td>\n",
       "      <td>Late Adult</td>\n",
       "      <td>Obesity</td>\n",
       "      <td>...</td>\n",
       "      <td>0</td>\n",
       "      <td>1</td>\n",
       "      <td>0</td>\n",
       "      <td>0</td>\n",
       "      <td>1</td>\n",
       "      <td>0</td>\n",
       "      <td>0</td>\n",
       "      <td>0</td>\n",
       "      <td>0</td>\n",
       "      <td>1</td>\n",
       "    </tr>\n",
       "    <tr>\n",
       "      <th>4</th>\n",
       "      <td>Female</td>\n",
       "      <td>1</td>\n",
       "      <td>0</td>\n",
       "      <td>Yes</td>\n",
       "      <td>Self-employed</td>\n",
       "      <td>Rural</td>\n",
       "      <td>never smoked</td>\n",
       "      <td>1</td>\n",
       "      <td>Old</td>\n",
       "      <td>Normal_weight</td>\n",
       "      <td>...</td>\n",
       "      <td>0</td>\n",
       "      <td>0</td>\n",
       "      <td>1</td>\n",
       "      <td>1</td>\n",
       "      <td>0</td>\n",
       "      <td>0</td>\n",
       "      <td>0</td>\n",
       "      <td>0</td>\n",
       "      <td>0</td>\n",
       "      <td>1</td>\n",
       "    </tr>\n",
       "    <tr>\n",
       "      <th>5</th>\n",
       "      <td>Male</td>\n",
       "      <td>0</td>\n",
       "      <td>0</td>\n",
       "      <td>Yes</td>\n",
       "      <td>Private</td>\n",
       "      <td>Urban</td>\n",
       "      <td>formerly smoked</td>\n",
       "      <td>1</td>\n",
       "      <td>Old</td>\n",
       "      <td>None</td>\n",
       "      <td>...</td>\n",
       "      <td>0</td>\n",
       "      <td>0</td>\n",
       "      <td>1</td>\n",
       "      <td>0</td>\n",
       "      <td>0</td>\n",
       "      <td>0</td>\n",
       "      <td>0</td>\n",
       "      <td>0</td>\n",
       "      <td>0</td>\n",
       "      <td>1</td>\n",
       "    </tr>\n",
       "  </tbody>\n",
       "</table>\n",
       "<p>5 rows × 40 columns</p>\n",
       "</div>"
      ],
      "text/plain": [
       "   gender  hypertension  heart_disease ever_married      work_type  \\\n",
       "0    Male             0              1          Yes        Private   \n",
       "2    Male             0              1          Yes        Private   \n",
       "3  Female             0              0          Yes        Private   \n",
       "4  Female             1              0          Yes  Self-employed   \n",
       "5    Male             0              0          Yes        Private   \n",
       "\n",
       "  Residence_type   smoking_status  stroke     age_gap        bmi_gap  ...  \\\n",
       "0          Urban  formerly smoked       1         Old        Obesity  ...   \n",
       "2          Rural     never smoked       1         Old        Obesity  ...   \n",
       "3          Urban           smokes       1  Late Adult        Obesity  ...   \n",
       "4          Rural     never smoked       1         Old  Normal_weight  ...   \n",
       "5          Urban  formerly smoked       1         Old           None  ...   \n",
       "\n",
       "  age_gap_Child  age_gap_Late Adult  age_gap_Old  bmi_gap_Normal_weight  \\\n",
       "0             0                   0            1                      0   \n",
       "2             0                   0            1                      0   \n",
       "3             0                   1            0                      0   \n",
       "4             0                   0            1                      1   \n",
       "5             0                   0            1                      0   \n",
       "\n",
       "   bmi_gap_Obesity  bmi_gap_Overweight  bmi_gap_Underweight  Glucose_Bad  \\\n",
       "0                1                   0                    0            1   \n",
       "2                1                   0                    0            0   \n",
       "3                1                   0                    0            0   \n",
       "4                0                   0                    0            0   \n",
       "5                0                   0                    0            0   \n",
       "\n",
       "   Glucose_Good  Glucose_Okay  \n",
       "0             0             0  \n",
       "2             1             0  \n",
       "3             0             1  \n",
       "4             0             1  \n",
       "5             0             1  \n",
       "\n",
       "[5 rows x 40 columns]"
      ]
     },
     "execution_count": 26,
     "metadata": {},
     "output_type": "execute_result"
    }
   ],
   "source": [
    "df=pd.concat([df,one_hot_encoded_data], axis=1)\n",
    "df.head()"
   ]
  },
  {
   "cell_type": "code",
   "execution_count": 27,
   "id": "ac205f3b",
   "metadata": {
    "execution": {
     "iopub.execute_input": "2021-08-30T13:37:28.021180Z",
     "iopub.status.busy": "2021-08-30T13:37:28.020508Z",
     "iopub.status.idle": "2021-08-30T13:37:28.027669Z",
     "shell.execute_reply": "2021-08-30T13:37:28.028134Z",
     "shell.execute_reply.started": "2021-08-30T13:35:07.802821Z"
    },
    "papermill": {
     "duration": 0.068179,
     "end_time": "2021-08-30T13:37:28.028331",
     "exception": false,
     "start_time": "2021-08-30T13:37:27.960152",
     "status": "completed"
    },
    "tags": []
   },
   "outputs": [],
   "source": [
    "df.drop(columns=[\"gender\",\"ever_married\",\"work_type\",\n",
    "                 \"Residence_type\",\n",
    "                \"smoking_status\",\"age_gap\",\n",
    "                \"bmi_gap\",\"Glucose\"], axis=1, inplace=True)"
   ]
  },
  {
   "cell_type": "code",
   "execution_count": 28,
   "id": "4fe3722b",
   "metadata": {
    "execution": {
     "iopub.execute_input": "2021-08-30T13:37:28.157351Z",
     "iopub.status.busy": "2021-08-30T13:37:28.156447Z",
     "iopub.status.idle": "2021-08-30T13:37:28.177168Z",
     "shell.execute_reply": "2021-08-30T13:37:28.176035Z",
     "shell.execute_reply.started": "2021-08-30T13:35:07.810840Z"
    },
    "papermill": {
     "duration": 0.088853,
     "end_time": "2021-08-30T13:37:28.177401",
     "exception": false,
     "start_time": "2021-08-30T13:37:28.088548",
     "status": "completed"
    },
    "tags": []
   },
   "outputs": [
    {
     "name": "stdout",
     "output_type": "stream",
     "text": [
      "<class 'pandas.core.frame.DataFrame'>\n",
      "Int64Index: 4908 entries, 0 to 5109\n",
      "Data columns (total 32 columns):\n",
      " #   Column                          Non-Null Count  Dtype\n",
      "---  ------                          --------------  -----\n",
      " 0   hypertension                    4908 non-null   int64\n",
      " 1   heart_disease                   4908 non-null   int64\n",
      " 2   stroke                          4908 non-null   int64\n",
      " 3   hypertension                    4908 non-null   int64\n",
      " 4   heart_disease                   4908 non-null   int64\n",
      " 5   stroke                          4908 non-null   int64\n",
      " 6   gender_Female                   4908 non-null   uint8\n",
      " 7   gender_Male                     4908 non-null   uint8\n",
      " 8   ever_married_No                 4908 non-null   uint8\n",
      " 9   ever_married_Yes                4908 non-null   uint8\n",
      " 10  work_type_Govt_job              4908 non-null   uint8\n",
      " 11  work_type_Never_worked          4908 non-null   uint8\n",
      " 12  work_type_Private               4908 non-null   uint8\n",
      " 13  work_type_Self-employed         4908 non-null   uint8\n",
      " 14  work_type_children              4908 non-null   uint8\n",
      " 15  Residence_type_Rural            4908 non-null   uint8\n",
      " 16  Residence_type_Urban            4908 non-null   uint8\n",
      " 17  smoking_status_Unknown          4908 non-null   uint8\n",
      " 18  smoking_status_formerly smoked  4908 non-null   uint8\n",
      " 19  smoking_status_never smoked     4908 non-null   uint8\n",
      " 20  smoking_status_smokes           4908 non-null   uint8\n",
      " 21  age_gap_Adult                   4908 non-null   uint8\n",
      " 22  age_gap_Child                   4908 non-null   uint8\n",
      " 23  age_gap_Late Adult              4908 non-null   uint8\n",
      " 24  age_gap_Old                     4908 non-null   uint8\n",
      " 25  bmi_gap_Normal_weight           4908 non-null   uint8\n",
      " 26  bmi_gap_Obesity                 4908 non-null   uint8\n",
      " 27  bmi_gap_Overweight              4908 non-null   uint8\n",
      " 28  bmi_gap_Underweight             4908 non-null   uint8\n",
      " 29  Glucose_Bad                     4908 non-null   uint8\n",
      " 30  Glucose_Good                    4908 non-null   uint8\n",
      " 31  Glucose_Okay                    4908 non-null   uint8\n",
      "dtypes: int64(6), uint8(26)\n",
      "memory usage: 522.1 KB\n"
     ]
    }
   ],
   "source": [
    "df.info()"
   ]
  },
  {
   "cell_type": "code",
   "execution_count": 29,
   "id": "52bfdbf6",
   "metadata": {
    "execution": {
     "iopub.execute_input": "2021-08-30T13:37:28.307631Z",
     "iopub.status.busy": "2021-08-30T13:37:28.306961Z",
     "iopub.status.idle": "2021-08-30T13:37:29.321432Z",
     "shell.execute_reply": "2021-08-30T13:37:29.321921Z",
     "shell.execute_reply.started": "2021-08-30T13:35:07.838786Z"
    },
    "papermill": {
     "duration": 1.083629,
     "end_time": "2021-08-30T13:37:29.322225",
     "exception": false,
     "start_time": "2021-08-30T13:37:28.238596",
     "status": "completed"
    },
    "tags": []
   },
   "outputs": [
    {
     "data": {
      "text/html": [
       "<div>\n",
       "<style scoped>\n",
       "    .dataframe tbody tr th:only-of-type {\n",
       "        vertical-align: middle;\n",
       "    }\n",
       "\n",
       "    .dataframe tbody tr th {\n",
       "        vertical-align: top;\n",
       "    }\n",
       "\n",
       "    .dataframe thead th {\n",
       "        text-align: right;\n",
       "    }\n",
       "</style>\n",
       "<table border=\"1\" class=\"dataframe\">\n",
       "  <thead>\n",
       "    <tr style=\"text-align: right;\">\n",
       "      <th></th>\n",
       "      <th>hypertension</th>\n",
       "      <th>heart_disease</th>\n",
       "      <th>stroke</th>\n",
       "      <th>gender_Female</th>\n",
       "      <th>gender_Male</th>\n",
       "      <th>ever_married_No</th>\n",
       "      <th>ever_married_Yes</th>\n",
       "      <th>work_type_Govt_job</th>\n",
       "      <th>work_type_Never_worked</th>\n",
       "      <th>work_type_Private</th>\n",
       "      <th>...</th>\n",
       "      <th>age_gap_Child</th>\n",
       "      <th>age_gap_Late Adult</th>\n",
       "      <th>age_gap_Old</th>\n",
       "      <th>bmi_gap_Normal_weight</th>\n",
       "      <th>bmi_gap_Obesity</th>\n",
       "      <th>bmi_gap_Overweight</th>\n",
       "      <th>bmi_gap_Underweight</th>\n",
       "      <th>Glucose_Bad</th>\n",
       "      <th>Glucose_Good</th>\n",
       "      <th>Glucose_Okay</th>\n",
       "    </tr>\n",
       "  </thead>\n",
       "  <tbody>\n",
       "    <tr>\n",
       "      <th>0</th>\n",
       "      <td>0</td>\n",
       "      <td>1</td>\n",
       "      <td>1</td>\n",
       "      <td>0</td>\n",
       "      <td>1</td>\n",
       "      <td>0</td>\n",
       "      <td>1</td>\n",
       "      <td>0</td>\n",
       "      <td>0</td>\n",
       "      <td>1</td>\n",
       "      <td>...</td>\n",
       "      <td>0</td>\n",
       "      <td>0</td>\n",
       "      <td>1</td>\n",
       "      <td>0</td>\n",
       "      <td>1</td>\n",
       "      <td>0</td>\n",
       "      <td>0</td>\n",
       "      <td>1</td>\n",
       "      <td>0</td>\n",
       "      <td>0</td>\n",
       "    </tr>\n",
       "    <tr>\n",
       "      <th>2</th>\n",
       "      <td>0</td>\n",
       "      <td>1</td>\n",
       "      <td>1</td>\n",
       "      <td>0</td>\n",
       "      <td>1</td>\n",
       "      <td>0</td>\n",
       "      <td>1</td>\n",
       "      <td>0</td>\n",
       "      <td>0</td>\n",
       "      <td>1</td>\n",
       "      <td>...</td>\n",
       "      <td>0</td>\n",
       "      <td>0</td>\n",
       "      <td>1</td>\n",
       "      <td>0</td>\n",
       "      <td>1</td>\n",
       "      <td>0</td>\n",
       "      <td>0</td>\n",
       "      <td>0</td>\n",
       "      <td>1</td>\n",
       "      <td>0</td>\n",
       "    </tr>\n",
       "    <tr>\n",
       "      <th>3</th>\n",
       "      <td>0</td>\n",
       "      <td>0</td>\n",
       "      <td>1</td>\n",
       "      <td>1</td>\n",
       "      <td>0</td>\n",
       "      <td>0</td>\n",
       "      <td>1</td>\n",
       "      <td>0</td>\n",
       "      <td>0</td>\n",
       "      <td>1</td>\n",
       "      <td>...</td>\n",
       "      <td>0</td>\n",
       "      <td>1</td>\n",
       "      <td>0</td>\n",
       "      <td>0</td>\n",
       "      <td>1</td>\n",
       "      <td>0</td>\n",
       "      <td>0</td>\n",
       "      <td>0</td>\n",
       "      <td>0</td>\n",
       "      <td>1</td>\n",
       "    </tr>\n",
       "    <tr>\n",
       "      <th>4</th>\n",
       "      <td>1</td>\n",
       "      <td>0</td>\n",
       "      <td>1</td>\n",
       "      <td>1</td>\n",
       "      <td>0</td>\n",
       "      <td>0</td>\n",
       "      <td>1</td>\n",
       "      <td>0</td>\n",
       "      <td>0</td>\n",
       "      <td>0</td>\n",
       "      <td>...</td>\n",
       "      <td>0</td>\n",
       "      <td>0</td>\n",
       "      <td>1</td>\n",
       "      <td>1</td>\n",
       "      <td>0</td>\n",
       "      <td>0</td>\n",
       "      <td>0</td>\n",
       "      <td>0</td>\n",
       "      <td>0</td>\n",
       "      <td>1</td>\n",
       "    </tr>\n",
       "    <tr>\n",
       "      <th>5</th>\n",
       "      <td>0</td>\n",
       "      <td>0</td>\n",
       "      <td>1</td>\n",
       "      <td>0</td>\n",
       "      <td>1</td>\n",
       "      <td>0</td>\n",
       "      <td>1</td>\n",
       "      <td>0</td>\n",
       "      <td>0</td>\n",
       "      <td>1</td>\n",
       "      <td>...</td>\n",
       "      <td>0</td>\n",
       "      <td>0</td>\n",
       "      <td>1</td>\n",
       "      <td>0</td>\n",
       "      <td>0</td>\n",
       "      <td>0</td>\n",
       "      <td>0</td>\n",
       "      <td>0</td>\n",
       "      <td>0</td>\n",
       "      <td>1</td>\n",
       "    </tr>\n",
       "  </tbody>\n",
       "</table>\n",
       "<p>5 rows × 29 columns</p>\n",
       "</div>"
      ],
      "text/plain": [
       "   hypertension  heart_disease  stroke  gender_Female  gender_Male  \\\n",
       "0             0              1       1              0            1   \n",
       "2             0              1       1              0            1   \n",
       "3             0              0       1              1            0   \n",
       "4             1              0       1              1            0   \n",
       "5             0              0       1              0            1   \n",
       "\n",
       "   ever_married_No  ever_married_Yes  work_type_Govt_job  \\\n",
       "0                0                 1                   0   \n",
       "2                0                 1                   0   \n",
       "3                0                 1                   0   \n",
       "4                0                 1                   0   \n",
       "5                0                 1                   0   \n",
       "\n",
       "   work_type_Never_worked  work_type_Private  ...  age_gap_Child  \\\n",
       "0                       0                  1  ...              0   \n",
       "2                       0                  1  ...              0   \n",
       "3                       0                  1  ...              0   \n",
       "4                       0                  0  ...              0   \n",
       "5                       0                  1  ...              0   \n",
       "\n",
       "   age_gap_Late Adult  age_gap_Old  bmi_gap_Normal_weight  bmi_gap_Obesity  \\\n",
       "0                   0            1                      0                1   \n",
       "2                   0            1                      0                1   \n",
       "3                   1            0                      0                1   \n",
       "4                   0            1                      1                0   \n",
       "5                   0            1                      0                0   \n",
       "\n",
       "   bmi_gap_Overweight  bmi_gap_Underweight  Glucose_Bad  Glucose_Good  \\\n",
       "0                   0                    0            1             0   \n",
       "2                   0                    0            0             1   \n",
       "3                   0                    0            0             0   \n",
       "4                   0                    0            0             0   \n",
       "5                   0                    0            0             0   \n",
       "\n",
       "   Glucose_Okay  \n",
       "0             0  \n",
       "2             0  \n",
       "3             1  \n",
       "4             1  \n",
       "5             1  \n",
       "\n",
       "[5 rows x 29 columns]"
      ]
     },
     "execution_count": 29,
     "metadata": {},
     "output_type": "execute_result"
    }
   ],
   "source": [
    "# I realized that there are some duplicated columns. We need to get rid of that.\n",
    "df=df.T.drop_duplicates().T\n",
    "df.head()"
   ]
  },
  {
   "cell_type": "code",
   "execution_count": 30,
   "id": "514ee627",
   "metadata": {
    "execution": {
     "iopub.execute_input": "2021-08-30T13:37:29.456780Z",
     "iopub.status.busy": "2021-08-30T13:37:29.447236Z",
     "iopub.status.idle": "2021-08-30T13:37:29.461507Z",
     "shell.execute_reply": "2021-08-30T13:37:29.462229Z",
     "shell.execute_reply.started": "2021-08-30T13:35:08.755276Z"
    },
    "papermill": {
     "duration": 0.08098,
     "end_time": "2021-08-30T13:37:29.462457",
     "exception": false,
     "start_time": "2021-08-30T13:37:29.381477",
     "status": "completed"
    },
    "tags": []
   },
   "outputs": [
    {
     "name": "stdout",
     "output_type": "stream",
     "text": [
      "<class 'pandas.core.frame.DataFrame'>\n",
      "Int64Index: 4908 entries, 0 to 5109\n",
      "Data columns (total 29 columns):\n",
      " #   Column                          Non-Null Count  Dtype\n",
      "---  ------                          --------------  -----\n",
      " 0   hypertension                    4908 non-null   int64\n",
      " 1   heart_disease                   4908 non-null   int64\n",
      " 2   stroke                          4908 non-null   int64\n",
      " 3   gender_Female                   4908 non-null   int64\n",
      " 4   gender_Male                     4908 non-null   int64\n",
      " 5   ever_married_No                 4908 non-null   int64\n",
      " 6   ever_married_Yes                4908 non-null   int64\n",
      " 7   work_type_Govt_job              4908 non-null   int64\n",
      " 8   work_type_Never_worked          4908 non-null   int64\n",
      " 9   work_type_Private               4908 non-null   int64\n",
      " 10  work_type_Self-employed         4908 non-null   int64\n",
      " 11  work_type_children              4908 non-null   int64\n",
      " 12  Residence_type_Rural            4908 non-null   int64\n",
      " 13  Residence_type_Urban            4908 non-null   int64\n",
      " 14  smoking_status_Unknown          4908 non-null   int64\n",
      " 15  smoking_status_formerly smoked  4908 non-null   int64\n",
      " 16  smoking_status_never smoked     4908 non-null   int64\n",
      " 17  smoking_status_smokes           4908 non-null   int64\n",
      " 18  age_gap_Adult                   4908 non-null   int64\n",
      " 19  age_gap_Child                   4908 non-null   int64\n",
      " 20  age_gap_Late Adult              4908 non-null   int64\n",
      " 21  age_gap_Old                     4908 non-null   int64\n",
      " 22  bmi_gap_Normal_weight           4908 non-null   int64\n",
      " 23  bmi_gap_Obesity                 4908 non-null   int64\n",
      " 24  bmi_gap_Overweight              4908 non-null   int64\n",
      " 25  bmi_gap_Underweight             4908 non-null   int64\n",
      " 26  Glucose_Bad                     4908 non-null   int64\n",
      " 27  Glucose_Good                    4908 non-null   int64\n",
      " 28  Glucose_Okay                    4908 non-null   int64\n",
      "dtypes: int64(29)\n",
      "memory usage: 1.2 MB\n"
     ]
    }
   ],
   "source": [
    "df.info()"
   ]
  },
  {
   "cell_type": "code",
   "execution_count": 31,
   "id": "8b23a58e",
   "metadata": {
    "execution": {
     "iopub.execute_input": "2021-08-30T13:37:29.599916Z",
     "iopub.status.busy": "2021-08-30T13:37:29.599195Z",
     "iopub.status.idle": "2021-08-30T13:37:29.760059Z",
     "shell.execute_reply": "2021-08-30T13:37:29.759428Z",
     "shell.execute_reply.started": "2021-08-30T13:35:08.773320Z"
    },
    "papermill": {
     "duration": 0.234213,
     "end_time": "2021-08-30T13:37:29.760196",
     "exception": false,
     "start_time": "2021-08-30T13:37:29.525983",
     "status": "completed"
    },
    "tags": []
   },
   "outputs": [
    {
     "data": {
      "text/plain": [
       "<AxesSubplot:xlabel='count', ylabel='stroke'>"
      ]
     },
     "execution_count": 31,
     "metadata": {},
     "output_type": "execute_result"
    },
    {
     "data": {
      "image/png": "[encoded data removed]",
      "text/plain": [
       "<Figure size 432x288 with 1 Axes>"
      ]
     },
     "metadata": {
      "needs_background": "light"
     },
     "output_type": "display_data"
    }
   ],
   "source": [
    "# Stroke=0 values are much more than Stroke=1 values. We need to balance this to increase our model accuracy \n",
    "count_class_0, count_class_1=df[\"stroke\"].value_counts()\n",
    "\n",
    "df_class_0 = df[df['stroke'] == 0]\n",
    "df_class_1 = df[df['stroke'] == 1]\n",
    "\n",
    "df_class_0_under = df_class_0.sample(count_class_1)\n",
    "df_new = pd.concat([df_class_0_under, df_class_1], axis=0)\n",
    "\n",
    "sns.countplot(data=df_new, y=df_new[\"stroke\"])"
   ]
  },
  {
   "cell_type": "code",
   "execution_count": 32,
   "id": "e29ec215",
   "metadata": {
    "execution": {
     "iopub.execute_input": "2021-08-30T13:37:29.887741Z",
     "iopub.status.busy": "2021-08-30T13:37:29.887108Z",
     "iopub.status.idle": "2021-08-30T13:37:29.889584Z",
     "shell.execute_reply": "2021-08-30T13:37:29.890034Z",
     "shell.execute_reply.started": "2021-08-30T13:35:08.930162Z"
    },
    "papermill": {
     "duration": 0.069259,
     "end_time": "2021-08-30T13:37:29.890235",
     "exception": false,
     "start_time": "2021-08-30T13:37:29.820976",
     "status": "completed"
    },
    "tags": []
   },
   "outputs": [],
   "source": [
    "y=df_new[\"stroke\"]\n",
    "x=df_new.drop(columns=[\"stroke\"],axis=1)\n",
    "y=pd.DataFrame(y)"
   ]
  },
  {
   "cell_type": "code",
   "execution_count": 33,
   "id": "e6b692f7",
   "metadata": {
    "execution": {
     "iopub.execute_input": "2021-08-30T13:37:30.016397Z",
     "iopub.status.busy": "2021-08-30T13:37:30.015581Z",
     "iopub.status.idle": "2021-08-30T13:37:30.193361Z",
     "shell.execute_reply": "2021-08-30T13:37:30.192739Z",
     "shell.execute_reply.started": "2021-08-30T13:35:08.939103Z"
    },
    "papermill": {
     "duration": 0.243187,
     "end_time": "2021-08-30T13:37:30.193504",
     "exception": false,
     "start_time": "2021-08-30T13:37:29.950317",
     "status": "completed"
    },
    "tags": []
   },
   "outputs": [],
   "source": [
    "from sklearn.model_selection import train_test_split\n",
    "x_train, x_test, y_train, y_test=train_test_split(x,y,test_size=0.3,random_state=42)"
   ]
  },
  {
   "cell_type": "code",
   "execution_count": 34,
   "id": "4d638dd4",
   "metadata": {
    "execution": {
     "iopub.execute_input": "2021-08-30T13:37:30.327121Z",
     "iopub.status.busy": "2021-08-30T13:37:30.326471Z",
     "iopub.status.idle": "2021-08-30T13:37:30.330552Z",
     "shell.execute_reply": "2021-08-30T13:37:30.330996Z",
     "shell.execute_reply.started": "2021-08-30T13:35:08.953997Z"
    },
    "papermill": {
     "duration": 0.073541,
     "end_time": "2021-08-30T13:37:30.331171",
     "exception": false,
     "start_time": "2021-08-30T13:37:30.257630",
     "status": "completed"
    },
    "tags": []
   },
   "outputs": [
    {
     "name": "stdout",
     "output_type": "stream",
     "text": [
      "(292, 1)\n",
      "(292, 28)\n",
      "(126, 1)\n",
      "(126, 28)\n"
     ]
    }
   ],
   "source": [
    "print(y_train.shape)\n",
    "print(x_train.shape)\n",
    "print(y_test.shape)\n",
    "print(x_test.shape)"
   ]
  },
  {
   "cell_type": "code",
   "execution_count": 35,
   "id": "24181c14",
   "metadata": {
    "execution": {
     "iopub.execute_input": "2021-08-30T13:37:30.464567Z",
     "iopub.status.busy": "2021-08-30T13:37:30.463894Z",
     "iopub.status.idle": "2021-08-30T13:37:30.471774Z",
     "shell.execute_reply": "2021-08-30T13:37:30.472528Z",
     "shell.execute_reply.started": "2021-08-30T13:35:08.967634Z"
    },
    "papermill": {
     "duration": 0.079113,
     "end_time": "2021-08-30T13:37:30.472740",
     "exception": false,
     "start_time": "2021-08-30T13:37:30.393627",
     "status": "completed"
    },
    "tags": []
   },
   "outputs": [],
   "source": [
    "# Scaling\n",
    "from sklearn.preprocessing import StandardScaler\n",
    "sc=StandardScaler()\n",
    "X_train=sc.fit_transform(x_train)\n",
    "X_test=sc.transform(x_test)"
   ]
  },
  {
   "cell_type": "code",
   "execution_count": 36,
   "id": "41ce4ea6",
   "metadata": {
    "execution": {
     "iopub.execute_input": "2021-08-30T13:37:30.609845Z",
     "iopub.status.busy": "2021-08-30T13:37:30.609150Z",
     "iopub.status.idle": "2021-08-30T13:37:30.729041Z",
     "shell.execute_reply": "2021-08-30T13:37:30.728321Z",
     "shell.execute_reply.started": "2021-08-30T13:35:08.984880Z"
    },
    "papermill": {
     "duration": 0.190424,
     "end_time": "2021-08-30T13:37:30.729199",
     "exception": false,
     "start_time": "2021-08-30T13:37:30.538775",
     "status": "completed"
    },
    "tags": []
   },
   "outputs": [
    {
     "name": "stdout",
     "output_type": "stream",
     "text": [
      "[[45 22]\n",
      " [10 49]]\n",
      "Training Accuracy : 77.05479452054794\n",
      "Testing Accuracy : 74.60317460317461\n"
     ]
    },
    {
     "name": "stderr",
     "output_type": "stream",
     "text": [
      "/opt/conda/lib/python3.7/site-packages/sklearn/utils/validation.py:72: DataConversionWarning: A column-vector y was passed when a 1d array was expected. Please change the shape of y to (n_samples, ), for example using ravel().\n",
      "  return f(**kwargs)\n"
     ]
    }
   ],
   "source": [
    "from sklearn.linear_model import LogisticRegression\n",
    "from sklearn.metrics import confusion_matrix\n",
    "from sklearn import metrics\n",
    "\n",
    "\n",
    "logr=LogisticRegression(random_state=0)\n",
    "logr.fit(X_train,y_train)\n",
    "y_pred=logr.predict(X_test)\n",
    "cm=confusion_matrix(y_test,y_pred)\n",
    "\n",
    "\n",
    "print(cm)\n",
    "print(\"Training Accuracy :\", logr.score(X_train, y_train)*100)\n",
    "print(\"Testing Accuracy :\", logr.score(X_test, y_test)*100)"
   ]
  },
  {
   "cell_type": "code",
   "execution_count": 37,
   "id": "d52ee822",
   "metadata": {
    "execution": {
     "iopub.execute_input": "2021-08-30T13:37:30.864030Z",
     "iopub.status.busy": "2021-08-30T13:37:30.863373Z",
     "iopub.status.idle": "2021-08-30T13:37:30.883920Z",
     "shell.execute_reply": "2021-08-30T13:37:30.882765Z",
     "shell.execute_reply.started": "2021-08-30T13:35:09.008923Z"
    },
    "papermill": {
     "duration": 0.091667,
     "end_time": "2021-08-30T13:37:30.884297",
     "exception": false,
     "start_time": "2021-08-30T13:37:30.792630",
     "status": "completed"
    },
    "tags": []
   },
   "outputs": [
    {
     "name": "stdout",
     "output_type": "stream",
     "text": [
      "[[35 32]\n",
      " [ 9 50]]\n",
      "Training Accuracy : 83.9041095890411\n",
      "Testing Accuracy : 67.46031746031747\n"
     ]
    },
    {
     "name": "stderr",
     "output_type": "stream",
     "text": [
      "/opt/conda/lib/python3.7/site-packages/sklearn/utils/validation.py:72: DataConversionWarning: A column-vector y was passed when a 1d array was expected. Please change the shape of y to (n_samples, ), for example using ravel().\n",
      "  return f(**kwargs)\n"
     ]
    }
   ],
   "source": [
    "from sklearn.svm import SVC\n",
    "svc=SVC(kernel=\"poly\")\n",
    "svc.fit(X_train,y_train)\n",
    "\n",
    "y_pred=svc.predict(X_test)\n",
    "cm=confusion_matrix(y_test,y_pred)\n",
    "\n",
    "print(cm)\n",
    "print(\"Training Accuracy :\", svc.score(X_train, y_train)*100)\n",
    "print(\"Testing Accuracy :\", svc.score(X_test, y_test)*100)"
   ]
  },
  {
   "cell_type": "code",
   "execution_count": 38,
   "id": "32afeaa2",
   "metadata": {
    "execution": {
     "iopub.execute_input": "2021-08-30T13:37:31.018018Z",
     "iopub.status.busy": "2021-08-30T13:37:31.017372Z",
     "iopub.status.idle": "2021-08-30T13:37:31.137888Z",
     "shell.execute_reply": "2021-08-30T13:37:31.138380Z",
     "shell.execute_reply.started": "2021-08-30T13:35:09.029336Z"
    },
    "papermill": {
     "duration": 0.188078,
     "end_time": "2021-08-30T13:37:31.138577",
     "exception": false,
     "start_time": "2021-08-30T13:37:30.950499",
     "status": "completed"
    },
    "tags": []
   },
   "outputs": [
    {
     "name": "stdout",
     "output_type": "stream",
     "text": [
      "[[44 23]\n",
      " [23 36]]\n",
      "Training Accuracy : 96.23287671232876\n",
      "Testing Accuracy : 63.49206349206349\n"
     ]
    }
   ],
   "source": [
    "from sklearn.tree import DecisionTreeClassifier\n",
    "dtc=DecisionTreeClassifier(criterion=\"entropy\")\n",
    "dtc.fit(X_train,y_train)\n",
    "\n",
    "y_pred=dtc.predict(X_test)\n",
    "cm=confusion_matrix(y_test,y_pred)\n",
    "\n",
    "print(cm)\n",
    "print(\"Training Accuracy :\", dtc.score(X_train, y_train)*100)\n",
    "print(\"Testing Accuracy :\", dtc.score(X_test, y_test)*100)"
   ]
  },
  {
   "cell_type": "markdown",
   "id": "b225fccb",
   "metadata": {
    "papermill": {
     "duration": 0.064303,
     "end_time": "2021-08-30T13:37:31.267142",
     "exception": false,
     "start_time": "2021-08-30T13:37:31.202839",
     "status": "completed"
    },
    "tags": []
   },
   "source": [
    "**PCA**"
   ]
  },
  {
   "cell_type": "code",
   "execution_count": 39,
   "id": "6d88f880",
   "metadata": {
    "execution": {
     "iopub.execute_input": "2021-08-30T13:37:31.468969Z",
     "iopub.status.busy": "2021-08-30T13:37:31.410726Z",
     "iopub.status.idle": "2021-08-30T13:37:31.472011Z",
     "shell.execute_reply": "2021-08-30T13:37:31.472575Z",
     "shell.execute_reply.started": "2021-08-30T13:35:09.047285Z"
    },
    "papermill": {
     "duration": 0.138433,
     "end_time": "2021-08-30T13:37:31.472796",
     "exception": false,
     "start_time": "2021-08-30T13:37:31.334363",
     "status": "completed"
    },
    "tags": []
   },
   "outputs": [],
   "source": [
    "from sklearn.decomposition import PCA\n",
    "pca=PCA(n_components=3)\n",
    "X_train=pca.fit_transform(X_train)\n",
    "X_test=pca.transform(X_test)"
   ]
  },
  {
   "cell_type": "code",
   "execution_count": 40,
   "id": "4c6f6d48",
   "metadata": {
    "execution": {
     "iopub.execute_input": "2021-08-30T13:37:31.620402Z",
     "iopub.status.busy": "2021-08-30T13:37:31.619396Z",
     "iopub.status.idle": "2021-08-30T13:37:31.633888Z",
     "shell.execute_reply": "2021-08-30T13:37:31.633128Z",
     "shell.execute_reply.started": "2021-08-30T13:35:09.055701Z"
    },
    "papermill": {
     "duration": 0.091762,
     "end_time": "2021-08-30T13:37:31.634052",
     "exception": false,
     "start_time": "2021-08-30T13:37:31.542290",
     "status": "completed"
    },
    "tags": []
   },
   "outputs": [
    {
     "name": "stdout",
     "output_type": "stream",
     "text": [
      "[[52 15]\n",
      " [12 47]]\n",
      "Training Accuracy : 65.75342465753424\n",
      "Testing Accuracy : 78.57142857142857\n"
     ]
    },
    {
     "name": "stderr",
     "output_type": "stream",
     "text": [
      "/opt/conda/lib/python3.7/site-packages/sklearn/utils/validation.py:72: DataConversionWarning: A column-vector y was passed when a 1d array was expected. Please change the shape of y to (n_samples, ), for example using ravel().\n",
      "  return f(**kwargs)\n"
     ]
    }
   ],
   "source": [
    "logr=LogisticRegression(random_state=0)\n",
    "logr.fit(X_train,y_train)\n",
    "\n",
    "y_pred=logr.predict(X_test)\n",
    "cm=confusion_matrix(y_test,y_pred)\n",
    "\n",
    "print(cm)\n",
    "print(\"Training Accuracy :\", logr.score(X_train, y_train)*100)\n",
    "print(\"Testing Accuracy :\", logr.score(X_test, y_test)*100)"
   ]
  },
  {
   "cell_type": "code",
   "execution_count": 41,
   "id": "0c87869c",
   "metadata": {
    "execution": {
     "iopub.execute_input": "2021-08-30T13:37:31.784010Z",
     "iopub.status.busy": "2021-08-30T13:37:31.779898Z",
     "iopub.status.idle": "2021-08-30T13:37:31.794838Z",
     "shell.execute_reply": "2021-08-30T13:37:31.795587Z",
     "shell.execute_reply.started": "2021-08-30T13:35:09.079758Z"
    },
    "papermill": {
     "duration": 0.087527,
     "end_time": "2021-08-30T13:37:31.795841",
     "exception": false,
     "start_time": "2021-08-30T13:37:31.708314",
     "status": "completed"
    },
    "tags": []
   },
   "outputs": [
    {
     "name": "stdout",
     "output_type": "stream",
     "text": [
      "[[28 39]\n",
      " [ 5 54]]\n",
      "Training Accuracy : 67.46575342465754\n",
      "Testing Accuracy : 65.07936507936508\n"
     ]
    },
    {
     "name": "stderr",
     "output_type": "stream",
     "text": [
      "/opt/conda/lib/python3.7/site-packages/sklearn/utils/validation.py:72: DataConversionWarning: A column-vector y was passed when a 1d array was expected. Please change the shape of y to (n_samples, ), for example using ravel().\n",
      "  return f(**kwargs)\n"
     ]
    }
   ],
   "source": [
    "from sklearn.svm import SVC\n",
    "svc=SVC(kernel=\"poly\")\n",
    "svc.fit(X_train,y_train)\n",
    "\n",
    "y_pred=svc.predict(X_test)\n",
    "cm=confusion_matrix(y_test,y_pred)\n",
    "\n",
    "print(cm)\n",
    "print(\"Training Accuracy :\", svc.score(X_train, y_train)*100)\n",
    "print(\"Testing Accuracy :\", svc.score(X_test, y_test)*100)"
   ]
  },
  {
   "cell_type": "code",
   "execution_count": 42,
   "id": "44cf53ee",
   "metadata": {
    "execution": {
     "iopub.execute_input": "2021-08-30T13:37:31.938763Z",
     "iopub.status.busy": "2021-08-30T13:37:31.938022Z",
     "iopub.status.idle": "2021-08-30T13:37:31.948585Z",
     "shell.execute_reply": "2021-08-30T13:37:31.949158Z",
     "shell.execute_reply.started": "2021-08-30T13:35:09.101676Z"
    },
    "papermill": {
     "duration": 0.087169,
     "end_time": "2021-08-30T13:37:31.949363",
     "exception": false,
     "start_time": "2021-08-30T13:37:31.862194",
     "status": "completed"
    },
    "tags": []
   },
   "outputs": [
    {
     "name": "stdout",
     "output_type": "stream",
     "text": [
      "[[44 23]\n",
      " [18 41]]\n",
      "Training Accuracy : 96.23287671232876\n",
      "Testing Accuracy : 67.46031746031747\n"
     ]
    }
   ],
   "source": [
    "from sklearn.tree import DecisionTreeClassifier\n",
    "dtc=DecisionTreeClassifier(criterion=\"entropy\")\n",
    "dtc.fit(X_train,y_train)\n",
    "y_pred=dtc.predict(X_test)\n",
    "cm=confusion_matrix(y_test,y_pred)\n",
    "print(cm)\n",
    "print(\"Training Accuracy :\", dtc.score(X_train, y_train)*100)\n",
    "print(\"Testing Accuracy :\", dtc.score(X_test, y_test)*100)"
   ]
  },
  {
   "cell_type": "code",
   "execution_count": null,
   "id": "335aa015",
   "metadata": {
    "papermill": {
     "duration": 0.071422,
     "end_time": "2021-08-30T13:37:32.089004",
     "exception": false,
     "start_time": "2021-08-30T13:37:32.017582",
     "status": "completed"
    },
    "tags": []
   },
   "outputs": [],
   "source": []
  }
 ],
 "metadata": {
  "kernelspec": {
   "display_name": "Python 3",
   "language": "python",
   "name": "python3"
  },
  "language_info": {
   "codemirror_mode": {
    "name": "ipython",
    "version": 3
   },
   "file_extension": ".py",
   "mimetype": "text/x-python",
   "name": "python",
   "nbconvert_exporter": "python",
   "pygments_lexer": "ipython3",
   "version": "3.7.10"
  },
  "papermill": {
   "default_parameters": {},
   "duration": 25.79646,
   "end_time": "2021-08-30T13:37:33.175716",
   "environment_variables": {},
   "exception": null,
   "input_path": "__notebook__.ipynb",
   "output_path": "__notebook__.ipynb",
   "parameters": {},
   "start_time": "2021-08-30T13:37:07.379256",
   "version": "2.3.3"
  }
 },
 "nbformat": 4,
 "nbformat_minor": 5
}
